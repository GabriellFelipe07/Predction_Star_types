{
  "nbformat": 4,
  "nbformat_minor": 0,
  "metadata": {
    "colab": {
      "name": "Star Dataset.ipynb",
      "provenance": []
    },
    "kernelspec": {
      "name": "python3",
      "display_name": "Python 3"
    },
    "language_info": {
      "name": "python"
    }
  },
  "cells": [
    {
      "cell_type": "markdown",
      "source": [
        "# **Star Dataset**"
      ],
      "metadata": {
        "id": "6NIIfj-JKPbS"
      }
    },
    {
      "cell_type": "markdown",
      "source": [
        "Gabriel Felipe Machado de Oliveira, 2022"
      ],
      "metadata": {
        "id": "joDPyyTOPDwS"
      }
    },
    {
      "cell_type": "code",
      "execution_count": 1,
      "metadata": {
        "id": "j3xvDrYCJpRX"
      },
      "outputs": [],
      "source": [
        "import pandas as pd\n",
        "import seaborn as sns\n",
        "import matplotlib.pyplot as plt\n",
        "import numpy as np"
      ]
    },
    {
      "cell_type": "code",
      "source": [
        "data = pd.read_csv('star_data.csv')"
      ],
      "metadata": {
        "id": "KV_u7GAkNl53"
      },
      "execution_count": 99,
      "outputs": []
    },
    {
      "cell_type": "markdown",
      "source": [
        "# **1. Introdução: Star Dataset**\n",
        "O conjunto de dados utilizado traz informações sobre estrelas de 6 diferentes tipos: Red Dwarf, Brown Dwarf, White Dwarf, Main Sequence , SuperGiants, HyperGiants. Os dados levaram cerca de 3 semanas para serem coletados."
      ],
      "metadata": {
        "id": "eBM3nkSsPHQy"
      }
    },
    {
      "cell_type": "code",
      "source": [
        "data.shape"
      ],
      "metadata": {
        "colab": {
          "base_uri": "https://localhost:8080/"
        },
        "id": "FZgDcOgLPkkx",
        "outputId": "3d1a1c25-0022-4c28-dc69-85adfb46d476"
      },
      "execution_count": 100,
      "outputs": [
        {
          "output_type": "execute_result",
          "data": {
            "text/plain": [
              "(240, 7)"
            ]
          },
          "metadata": {},
          "execution_count": 100
        }
      ]
    },
    {
      "cell_type": "markdown",
      "source": [
        "Trata-se de um dataset com 240 instâncias, isto é, 240 características de estrelas, e 7 variáveis:"
      ],
      "metadata": {
        "id": "uRkEuZdEPr-a"
      }
    },
    {
      "cell_type": "code",
      "source": [
        "print('Variáveis:', list(data.columns))"
      ],
      "metadata": {
        "colab": {
          "base_uri": "https://localhost:8080/"
        },
        "id": "fM0N51DhQBEK",
        "outputId": "ac6898cc-2fc8-4452-87bb-32145ea77f97"
      },
      "execution_count": 60,
      "outputs": [
        {
          "output_type": "stream",
          "name": "stdout",
          "text": [
            "Variáveis: ['Temperature (K)', 'Luminosity(L/Lo)', 'Radius(R/Ro)', 'Absolute magnitude(Mv)', 'Star type', 'Star color', 'Spectral Class']\n"
          ]
        }
      ]
    },
    {
      "cell_type": "markdown",
      "source": [
        "Segue abaixo o detalhamento das variávies:\n",
        "- Temperature (K): temperatura da estrela em Kelvin;\n",
        "- Luminosity (L/Lo): razão entre a luminosidade da estrela e a luminosidade solar;\n",
        "- Radius (R/Ro): razão entre o raio da estrela e o raio solar;\n",
        "- Absolute magnitude (Mv): a magnitude abdoluta da estrela;\n",
        "- Star type: é o tipo da estrela, classe indo de 0 a 5 inclusos;\n",
        "- Star color: cor da estrela;\n",
        "- Spectral Class: a classe espectral da estrela.\n"
      ],
      "metadata": {
        "id": "j5CI2yOZQT_j"
      }
    },
    {
      "cell_type": "code",
      "source": [
        "data.head()"
      ],
      "metadata": {
        "colab": {
          "base_uri": "https://localhost:8080/",
          "height": 206
        },
        "id": "LfvCi-WfReez",
        "outputId": "81eafe70-3e72-4d95-db2c-a4b41270a369"
      },
      "execution_count": 101,
      "outputs": [
        {
          "output_type": "execute_result",
          "data": {
            "text/plain": [
              "   Temperature (K)  Luminosity(L/Lo)  Radius(R/Ro)  Absolute magnitude(Mv)  \\\n",
              "0             3068          0.002400        0.1700                   16.12   \n",
              "1             3042          0.000500        0.1542                   16.60   \n",
              "2             2600          0.000300        0.1020                   18.70   \n",
              "3             2800          0.000200        0.1600                   16.65   \n",
              "4             1939          0.000138        0.1030                   20.06   \n",
              "\n",
              "   Star type Star color Spectral Class  \n",
              "0          0        Red              M  \n",
              "1          0        Red              M  \n",
              "2          0        Red              M  \n",
              "3          0        Red              M  \n",
              "4          0        Red              M  "
            ],
            "text/html": [
              "\n",
              "  <div id=\"df-9f2d88ee-35ec-49ed-8ded-43cc2a96a147\">\n",
              "    <div class=\"colab-df-container\">\n",
              "      <div>\n",
              "<style scoped>\n",
              "    .dataframe tbody tr th:only-of-type {\n",
              "        vertical-align: middle;\n",
              "    }\n",
              "\n",
              "    .dataframe tbody tr th {\n",
              "        vertical-align: top;\n",
              "    }\n",
              "\n",
              "    .dataframe thead th {\n",
              "        text-align: right;\n",
              "    }\n",
              "</style>\n",
              "<table border=\"1\" class=\"dataframe\">\n",
              "  <thead>\n",
              "    <tr style=\"text-align: right;\">\n",
              "      <th></th>\n",
              "      <th>Temperature (K)</th>\n",
              "      <th>Luminosity(L/Lo)</th>\n",
              "      <th>Radius(R/Ro)</th>\n",
              "      <th>Absolute magnitude(Mv)</th>\n",
              "      <th>Star type</th>\n",
              "      <th>Star color</th>\n",
              "      <th>Spectral Class</th>\n",
              "    </tr>\n",
              "  </thead>\n",
              "  <tbody>\n",
              "    <tr>\n",
              "      <th>0</th>\n",
              "      <td>3068</td>\n",
              "      <td>0.002400</td>\n",
              "      <td>0.1700</td>\n",
              "      <td>16.12</td>\n",
              "      <td>0</td>\n",
              "      <td>Red</td>\n",
              "      <td>M</td>\n",
              "    </tr>\n",
              "    <tr>\n",
              "      <th>1</th>\n",
              "      <td>3042</td>\n",
              "      <td>0.000500</td>\n",
              "      <td>0.1542</td>\n",
              "      <td>16.60</td>\n",
              "      <td>0</td>\n",
              "      <td>Red</td>\n",
              "      <td>M</td>\n",
              "    </tr>\n",
              "    <tr>\n",
              "      <th>2</th>\n",
              "      <td>2600</td>\n",
              "      <td>0.000300</td>\n",
              "      <td>0.1020</td>\n",
              "      <td>18.70</td>\n",
              "      <td>0</td>\n",
              "      <td>Red</td>\n",
              "      <td>M</td>\n",
              "    </tr>\n",
              "    <tr>\n",
              "      <th>3</th>\n",
              "      <td>2800</td>\n",
              "      <td>0.000200</td>\n",
              "      <td>0.1600</td>\n",
              "      <td>16.65</td>\n",
              "      <td>0</td>\n",
              "      <td>Red</td>\n",
              "      <td>M</td>\n",
              "    </tr>\n",
              "    <tr>\n",
              "      <th>4</th>\n",
              "      <td>1939</td>\n",
              "      <td>0.000138</td>\n",
              "      <td>0.1030</td>\n",
              "      <td>20.06</td>\n",
              "      <td>0</td>\n",
              "      <td>Red</td>\n",
              "      <td>M</td>\n",
              "    </tr>\n",
              "  </tbody>\n",
              "</table>\n",
              "</div>\n",
              "      <button class=\"colab-df-convert\" onclick=\"convertToInteractive('df-9f2d88ee-35ec-49ed-8ded-43cc2a96a147')\"\n",
              "              title=\"Convert this dataframe to an interactive table.\"\n",
              "              style=\"display:none;\">\n",
              "        \n",
              "  <svg xmlns=\"http://www.w3.org/2000/svg\" height=\"24px\"viewBox=\"0 0 24 24\"\n",
              "       width=\"24px\">\n",
              "    <path d=\"M0 0h24v24H0V0z\" fill=\"none\"/>\n",
              "    <path d=\"M18.56 5.44l.94 2.06.94-2.06 2.06-.94-2.06-.94-.94-2.06-.94 2.06-2.06.94zm-11 1L8.5 8.5l.94-2.06 2.06-.94-2.06-.94L8.5 2.5l-.94 2.06-2.06.94zm10 10l.94 2.06.94-2.06 2.06-.94-2.06-.94-.94-2.06-.94 2.06-2.06.94z\"/><path d=\"M17.41 7.96l-1.37-1.37c-.4-.4-.92-.59-1.43-.59-.52 0-1.04.2-1.43.59L10.3 9.45l-7.72 7.72c-.78.78-.78 2.05 0 2.83L4 21.41c.39.39.9.59 1.41.59.51 0 1.02-.2 1.41-.59l7.78-7.78 2.81-2.81c.8-.78.8-2.07 0-2.86zM5.41 20L4 18.59l7.72-7.72 1.47 1.35L5.41 20z\"/>\n",
              "  </svg>\n",
              "      </button>\n",
              "      \n",
              "  <style>\n",
              "    .colab-df-container {\n",
              "      display:flex;\n",
              "      flex-wrap:wrap;\n",
              "      gap: 12px;\n",
              "    }\n",
              "\n",
              "    .colab-df-convert {\n",
              "      background-color: #E8F0FE;\n",
              "      border: none;\n",
              "      border-radius: 50%;\n",
              "      cursor: pointer;\n",
              "      display: none;\n",
              "      fill: #1967D2;\n",
              "      height: 32px;\n",
              "      padding: 0 0 0 0;\n",
              "      width: 32px;\n",
              "    }\n",
              "\n",
              "    .colab-df-convert:hover {\n",
              "      background-color: #E2EBFA;\n",
              "      box-shadow: 0px 1px 2px rgba(60, 64, 67, 0.3), 0px 1px 3px 1px rgba(60, 64, 67, 0.15);\n",
              "      fill: #174EA6;\n",
              "    }\n",
              "\n",
              "    [theme=dark] .colab-df-convert {\n",
              "      background-color: #3B4455;\n",
              "      fill: #D2E3FC;\n",
              "    }\n",
              "\n",
              "    [theme=dark] .colab-df-convert:hover {\n",
              "      background-color: #434B5C;\n",
              "      box-shadow: 0px 1px 3px 1px rgba(0, 0, 0, 0.15);\n",
              "      filter: drop-shadow(0px 1px 2px rgba(0, 0, 0, 0.3));\n",
              "      fill: #FFFFFF;\n",
              "    }\n",
              "  </style>\n",
              "\n",
              "      <script>\n",
              "        const buttonEl =\n",
              "          document.querySelector('#df-9f2d88ee-35ec-49ed-8ded-43cc2a96a147 button.colab-df-convert');\n",
              "        buttonEl.style.display =\n",
              "          google.colab.kernel.accessAllowed ? 'block' : 'none';\n",
              "\n",
              "        async function convertToInteractive(key) {\n",
              "          const element = document.querySelector('#df-9f2d88ee-35ec-49ed-8ded-43cc2a96a147');\n",
              "          const dataTable =\n",
              "            await google.colab.kernel.invokeFunction('convertToInteractive',\n",
              "                                                     [key], {});\n",
              "          if (!dataTable) return;\n",
              "\n",
              "          const docLinkHtml = 'Like what you see? Visit the ' +\n",
              "            '<a target=\"_blank\" href=https://colab.research.google.com/notebooks/data_table.ipynb>data table notebook</a>'\n",
              "            + ' to learn more about interactive tables.';\n",
              "          element.innerHTML = '';\n",
              "          dataTable['output_type'] = 'display_data';\n",
              "          await google.colab.output.renderOutput(dataTable, element);\n",
              "          const docLink = document.createElement('div');\n",
              "          docLink.innerHTML = docLinkHtml;\n",
              "          element.appendChild(docLink);\n",
              "        }\n",
              "      </script>\n",
              "    </div>\n",
              "  </div>\n",
              "  "
            ]
          },
          "metadata": {},
          "execution_count": 101
        }
      ]
    },
    {
      "cell_type": "markdown",
      "source": [
        "## 1.1. Objetivo\n",
        "O objetivo dos dados é provar que as estrelas seguem um determinado gráfico no espaço celeste,\n",
        "especificamente chamado Hertzsprung-Russell ou HR-Diagram, ele nos permite classificar as estrelas traçando suas características com base no gráfico abaixo."
      ],
      "metadata": {
        "id": "_FCgRgjAr879"
      }
    },
    {
      "cell_type": "markdown",
      "source": [
        "![inbox_3791628_14338bbebf77d18e1faef582bccdbdd6_hr.jpg](data:image/jpeg;base64,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)"
      ],
      "metadata": {
        "id": "DgrPiA-isPef"
      }
    },
    {
      "cell_type": "markdown",
      "source": [
        "Para contribuir com a tese, o seguinte projeto visa testar modelos de Machine Learning de classifição. Com isso, poderemos apoiar a tese acima ou descartá-la com base nas precisões das predições."
      ],
      "metadata": {
        "id": "KthWfeEIsSpE"
      }
    },
    {
      "cell_type": "markdown",
      "source": [
        "# **2. Analise Exploratória**\n",
        "Inicialmente, após importarmos os dados, precisamos analisar afundo suas variáveis. Esta análise inicial será a base de todo o projeto. Através dela, nos familiarizaremos com o conjunto e teremos a certeza de que os modelos de predição poderão atuar em um dataset tratado e limpo.\n",
        "\n"
      ],
      "metadata": {
        "id": "OnevZX4Osyve"
      }
    },
    {
      "cell_type": "markdown",
      "source": [
        "## 2.1. Limpeza \n",
        "Vamos verificar se há valores nulos no conjunto."
      ],
      "metadata": {
        "id": "_FohYtOzuB19"
      }
    },
    {
      "cell_type": "code",
      "source": [
        "data.info()"
      ],
      "metadata": {
        "colab": {
          "base_uri": "https://localhost:8080/"
        },
        "id": "XDzK-xGXuRCf",
        "outputId": "f47fd8e3-a60d-466d-c3ea-2db8af90928a"
      },
      "execution_count": 62,
      "outputs": [
        {
          "output_type": "stream",
          "name": "stdout",
          "text": [
            "<class 'pandas.core.frame.DataFrame'>\n",
            "RangeIndex: 240 entries, 0 to 239\n",
            "Data columns (total 7 columns):\n",
            " #   Column                  Non-Null Count  Dtype  \n",
            "---  ------                  --------------  -----  \n",
            " 0   Temperature (K)         240 non-null    int64  \n",
            " 1   Luminosity(L/Lo)        240 non-null    float64\n",
            " 2   Radius(R/Ro)            240 non-null    float64\n",
            " 3   Absolute magnitude(Mv)  240 non-null    float64\n",
            " 4   Star type               240 non-null    int64  \n",
            " 5   Star color              240 non-null    object \n",
            " 6   Spectral Class          240 non-null    object \n",
            "dtypes: float64(3), int64(2), object(2)\n",
            "memory usage: 13.2+ KB\n"
          ]
        }
      ]
    },
    {
      "cell_type": "code",
      "source": [
        "data.isna()"
      ],
      "metadata": {
        "colab": {
          "base_uri": "https://localhost:8080/",
          "height": 424
        },
        "id": "tDLZZ5KzuX-m",
        "outputId": "06cfdb10-ef6d-442c-e8bd-fa67e8aa5eb6"
      },
      "execution_count": 63,
      "outputs": [
        {
          "output_type": "execute_result",
          "data": {
            "text/plain": [
              "     Temperature (K)  Luminosity(L/Lo)  Radius(R/Ro)  Absolute magnitude(Mv)  \\\n",
              "0              False             False         False                   False   \n",
              "1              False             False         False                   False   \n",
              "2              False             False         False                   False   \n",
              "3              False             False         False                   False   \n",
              "4              False             False         False                   False   \n",
              "..               ...               ...           ...                     ...   \n",
              "235            False             False         False                   False   \n",
              "236            False             False         False                   False   \n",
              "237            False             False         False                   False   \n",
              "238            False             False         False                   False   \n",
              "239            False             False         False                   False   \n",
              "\n",
              "     Star type  Star color  Spectral Class  \n",
              "0        False       False           False  \n",
              "1        False       False           False  \n",
              "2        False       False           False  \n",
              "3        False       False           False  \n",
              "4        False       False           False  \n",
              "..         ...         ...             ...  \n",
              "235      False       False           False  \n",
              "236      False       False           False  \n",
              "237      False       False           False  \n",
              "238      False       False           False  \n",
              "239      False       False           False  \n",
              "\n",
              "[240 rows x 7 columns]"
            ],
            "text/html": [
              "\n",
              "  <div id=\"df-e36beec5-f671-41d3-b5f6-38514e04e09b\">\n",
              "    <div class=\"colab-df-container\">\n",
              "      <div>\n",
              "<style scoped>\n",
              "    .dataframe tbody tr th:only-of-type {\n",
              "        vertical-align: middle;\n",
              "    }\n",
              "\n",
              "    .dataframe tbody tr th {\n",
              "        vertical-align: top;\n",
              "    }\n",
              "\n",
              "    .dataframe thead th {\n",
              "        text-align: right;\n",
              "    }\n",
              "</style>\n",
              "<table border=\"1\" class=\"dataframe\">\n",
              "  <thead>\n",
              "    <tr style=\"text-align: right;\">\n",
              "      <th></th>\n",
              "      <th>Temperature (K)</th>\n",
              "      <th>Luminosity(L/Lo)</th>\n",
              "      <th>Radius(R/Ro)</th>\n",
              "      <th>Absolute magnitude(Mv)</th>\n",
              "      <th>Star type</th>\n",
              "      <th>Star color</th>\n",
              "      <th>Spectral Class</th>\n",
              "    </tr>\n",
              "  </thead>\n",
              "  <tbody>\n",
              "    <tr>\n",
              "      <th>0</th>\n",
              "      <td>False</td>\n",
              "      <td>False</td>\n",
              "      <td>False</td>\n",
              "      <td>False</td>\n",
              "      <td>False</td>\n",
              "      <td>False</td>\n",
              "      <td>False</td>\n",
              "    </tr>\n",
              "    <tr>\n",
              "      <th>1</th>\n",
              "      <td>False</td>\n",
              "      <td>False</td>\n",
              "      <td>False</td>\n",
              "      <td>False</td>\n",
              "      <td>False</td>\n",
              "      <td>False</td>\n",
              "      <td>False</td>\n",
              "    </tr>\n",
              "    <tr>\n",
              "      <th>2</th>\n",
              "      <td>False</td>\n",
              "      <td>False</td>\n",
              "      <td>False</td>\n",
              "      <td>False</td>\n",
              "      <td>False</td>\n",
              "      <td>False</td>\n",
              "      <td>False</td>\n",
              "    </tr>\n",
              "    <tr>\n",
              "      <th>3</th>\n",
              "      <td>False</td>\n",
              "      <td>False</td>\n",
              "      <td>False</td>\n",
              "      <td>False</td>\n",
              "      <td>False</td>\n",
              "      <td>False</td>\n",
              "      <td>False</td>\n",
              "    </tr>\n",
              "    <tr>\n",
              "      <th>4</th>\n",
              "      <td>False</td>\n",
              "      <td>False</td>\n",
              "      <td>False</td>\n",
              "      <td>False</td>\n",
              "      <td>False</td>\n",
              "      <td>False</td>\n",
              "      <td>False</td>\n",
              "    </tr>\n",
              "    <tr>\n",
              "      <th>...</th>\n",
              "      <td>...</td>\n",
              "      <td>...</td>\n",
              "      <td>...</td>\n",
              "      <td>...</td>\n",
              "      <td>...</td>\n",
              "      <td>...</td>\n",
              "      <td>...</td>\n",
              "    </tr>\n",
              "    <tr>\n",
              "      <th>235</th>\n",
              "      <td>False</td>\n",
              "      <td>False</td>\n",
              "      <td>False</td>\n",
              "      <td>False</td>\n",
              "      <td>False</td>\n",
              "      <td>False</td>\n",
              "      <td>False</td>\n",
              "    </tr>\n",
              "    <tr>\n",
              "      <th>236</th>\n",
              "      <td>False</td>\n",
              "      <td>False</td>\n",
              "      <td>False</td>\n",
              "      <td>False</td>\n",
              "      <td>False</td>\n",
              "      <td>False</td>\n",
              "      <td>False</td>\n",
              "    </tr>\n",
              "    <tr>\n",
              "      <th>237</th>\n",
              "      <td>False</td>\n",
              "      <td>False</td>\n",
              "      <td>False</td>\n",
              "      <td>False</td>\n",
              "      <td>False</td>\n",
              "      <td>False</td>\n",
              "      <td>False</td>\n",
              "    </tr>\n",
              "    <tr>\n",
              "      <th>238</th>\n",
              "      <td>False</td>\n",
              "      <td>False</td>\n",
              "      <td>False</td>\n",
              "      <td>False</td>\n",
              "      <td>False</td>\n",
              "      <td>False</td>\n",
              "      <td>False</td>\n",
              "    </tr>\n",
              "    <tr>\n",
              "      <th>239</th>\n",
              "      <td>False</td>\n",
              "      <td>False</td>\n",
              "      <td>False</td>\n",
              "      <td>False</td>\n",
              "      <td>False</td>\n",
              "      <td>False</td>\n",
              "      <td>False</td>\n",
              "    </tr>\n",
              "  </tbody>\n",
              "</table>\n",
              "<p>240 rows × 7 columns</p>\n",
              "</div>\n",
              "      <button class=\"colab-df-convert\" onclick=\"convertToInteractive('df-e36beec5-f671-41d3-b5f6-38514e04e09b')\"\n",
              "              title=\"Convert this dataframe to an interactive table.\"\n",
              "              style=\"display:none;\">\n",
              "        \n",
              "  <svg xmlns=\"http://www.w3.org/2000/svg\" height=\"24px\"viewBox=\"0 0 24 24\"\n",
              "       width=\"24px\">\n",
              "    <path d=\"M0 0h24v24H0V0z\" fill=\"none\"/>\n",
              "    <path d=\"M18.56 5.44l.94 2.06.94-2.06 2.06-.94-2.06-.94-.94-2.06-.94 2.06-2.06.94zm-11 1L8.5 8.5l.94-2.06 2.06-.94-2.06-.94L8.5 2.5l-.94 2.06-2.06.94zm10 10l.94 2.06.94-2.06 2.06-.94-2.06-.94-.94-2.06-.94 2.06-2.06.94z\"/><path d=\"M17.41 7.96l-1.37-1.37c-.4-.4-.92-.59-1.43-.59-.52 0-1.04.2-1.43.59L10.3 9.45l-7.72 7.72c-.78.78-.78 2.05 0 2.83L4 21.41c.39.39.9.59 1.41.59.51 0 1.02-.2 1.41-.59l7.78-7.78 2.81-2.81c.8-.78.8-2.07 0-2.86zM5.41 20L4 18.59l7.72-7.72 1.47 1.35L5.41 20z\"/>\n",
              "  </svg>\n",
              "      </button>\n",
              "      \n",
              "  <style>\n",
              "    .colab-df-container {\n",
              "      display:flex;\n",
              "      flex-wrap:wrap;\n",
              "      gap: 12px;\n",
              "    }\n",
              "\n",
              "    .colab-df-convert {\n",
              "      background-color: #E8F0FE;\n",
              "      border: none;\n",
              "      border-radius: 50%;\n",
              "      cursor: pointer;\n",
              "      display: none;\n",
              "      fill: #1967D2;\n",
              "      height: 32px;\n",
              "      padding: 0 0 0 0;\n",
              "      width: 32px;\n",
              "    }\n",
              "\n",
              "    .colab-df-convert:hover {\n",
              "      background-color: #E2EBFA;\n",
              "      box-shadow: 0px 1px 2px rgba(60, 64, 67, 0.3), 0px 1px 3px 1px rgba(60, 64, 67, 0.15);\n",
              "      fill: #174EA6;\n",
              "    }\n",
              "\n",
              "    [theme=dark] .colab-df-convert {\n",
              "      background-color: #3B4455;\n",
              "      fill: #D2E3FC;\n",
              "    }\n",
              "\n",
              "    [theme=dark] .colab-df-convert:hover {\n",
              "      background-color: #434B5C;\n",
              "      box-shadow: 0px 1px 3px 1px rgba(0, 0, 0, 0.15);\n",
              "      filter: drop-shadow(0px 1px 2px rgba(0, 0, 0, 0.3));\n",
              "      fill: #FFFFFF;\n",
              "    }\n",
              "  </style>\n",
              "\n",
              "      <script>\n",
              "        const buttonEl =\n",
              "          document.querySelector('#df-e36beec5-f671-41d3-b5f6-38514e04e09b button.colab-df-convert');\n",
              "        buttonEl.style.display =\n",
              "          google.colab.kernel.accessAllowed ? 'block' : 'none';\n",
              "\n",
              "        async function convertToInteractive(key) {\n",
              "          const element = document.querySelector('#df-e36beec5-f671-41d3-b5f6-38514e04e09b');\n",
              "          const dataTable =\n",
              "            await google.colab.kernel.invokeFunction('convertToInteractive',\n",
              "                                                     [key], {});\n",
              "          if (!dataTable) return;\n",
              "\n",
              "          const docLinkHtml = 'Like what you see? Visit the ' +\n",
              "            '<a target=\"_blank\" href=https://colab.research.google.com/notebooks/data_table.ipynb>data table notebook</a>'\n",
              "            + ' to learn more about interactive tables.';\n",
              "          element.innerHTML = '';\n",
              "          dataTable['output_type'] = 'display_data';\n",
              "          await google.colab.output.renderOutput(dataTable, element);\n",
              "          const docLink = document.createElement('div');\n",
              "          docLink.innerHTML = docLinkHtml;\n",
              "          element.appendChild(docLink);\n",
              "        }\n",
              "      </script>\n",
              "    </div>\n",
              "  </div>\n",
              "  "
            ]
          },
          "metadata": {},
          "execution_count": 63
        }
      ]
    },
    {
      "cell_type": "markdown",
      "source": [
        "Não há valores nulos, verifiquemos a existência de valores Na:"
      ],
      "metadata": {
        "id": "gE_rsHUkuawm"
      }
    },
    {
      "cell_type": "code",
      "source": [
        "data.isna()"
      ],
      "metadata": {
        "colab": {
          "base_uri": "https://localhost:8080/",
          "height": 424
        },
        "id": "ad9UO-cauX6O",
        "outputId": "1cd95bc1-5711-447d-f55b-9c3dd602822c"
      },
      "execution_count": 64,
      "outputs": [
        {
          "output_type": "execute_result",
          "data": {
            "text/plain": [
              "     Temperature (K)  Luminosity(L/Lo)  Radius(R/Ro)  Absolute magnitude(Mv)  \\\n",
              "0              False             False         False                   False   \n",
              "1              False             False         False                   False   \n",
              "2              False             False         False                   False   \n",
              "3              False             False         False                   False   \n",
              "4              False             False         False                   False   \n",
              "..               ...               ...           ...                     ...   \n",
              "235            False             False         False                   False   \n",
              "236            False             False         False                   False   \n",
              "237            False             False         False                   False   \n",
              "238            False             False         False                   False   \n",
              "239            False             False         False                   False   \n",
              "\n",
              "     Star type  Star color  Spectral Class  \n",
              "0        False       False           False  \n",
              "1        False       False           False  \n",
              "2        False       False           False  \n",
              "3        False       False           False  \n",
              "4        False       False           False  \n",
              "..         ...         ...             ...  \n",
              "235      False       False           False  \n",
              "236      False       False           False  \n",
              "237      False       False           False  \n",
              "238      False       False           False  \n",
              "239      False       False           False  \n",
              "\n",
              "[240 rows x 7 columns]"
            ],
            "text/html": [
              "\n",
              "  <div id=\"df-e924ace3-84f8-48ce-8be9-71c029e5d2d2\">\n",
              "    <div class=\"colab-df-container\">\n",
              "      <div>\n",
              "<style scoped>\n",
              "    .dataframe tbody tr th:only-of-type {\n",
              "        vertical-align: middle;\n",
              "    }\n",
              "\n",
              "    .dataframe tbody tr th {\n",
              "        vertical-align: top;\n",
              "    }\n",
              "\n",
              "    .dataframe thead th {\n",
              "        text-align: right;\n",
              "    }\n",
              "</style>\n",
              "<table border=\"1\" class=\"dataframe\">\n",
              "  <thead>\n",
              "    <tr style=\"text-align: right;\">\n",
              "      <th></th>\n",
              "      <th>Temperature (K)</th>\n",
              "      <th>Luminosity(L/Lo)</th>\n",
              "      <th>Radius(R/Ro)</th>\n",
              "      <th>Absolute magnitude(Mv)</th>\n",
              "      <th>Star type</th>\n",
              "      <th>Star color</th>\n",
              "      <th>Spectral Class</th>\n",
              "    </tr>\n",
              "  </thead>\n",
              "  <tbody>\n",
              "    <tr>\n",
              "      <th>0</th>\n",
              "      <td>False</td>\n",
              "      <td>False</td>\n",
              "      <td>False</td>\n",
              "      <td>False</td>\n",
              "      <td>False</td>\n",
              "      <td>False</td>\n",
              "      <td>False</td>\n",
              "    </tr>\n",
              "    <tr>\n",
              "      <th>1</th>\n",
              "      <td>False</td>\n",
              "      <td>False</td>\n",
              "      <td>False</td>\n",
              "      <td>False</td>\n",
              "      <td>False</td>\n",
              "      <td>False</td>\n",
              "      <td>False</td>\n",
              "    </tr>\n",
              "    <tr>\n",
              "      <th>2</th>\n",
              "      <td>False</td>\n",
              "      <td>False</td>\n",
              "      <td>False</td>\n",
              "      <td>False</td>\n",
              "      <td>False</td>\n",
              "      <td>False</td>\n",
              "      <td>False</td>\n",
              "    </tr>\n",
              "    <tr>\n",
              "      <th>3</th>\n",
              "      <td>False</td>\n",
              "      <td>False</td>\n",
              "      <td>False</td>\n",
              "      <td>False</td>\n",
              "      <td>False</td>\n",
              "      <td>False</td>\n",
              "      <td>False</td>\n",
              "    </tr>\n",
              "    <tr>\n",
              "      <th>4</th>\n",
              "      <td>False</td>\n",
              "      <td>False</td>\n",
              "      <td>False</td>\n",
              "      <td>False</td>\n",
              "      <td>False</td>\n",
              "      <td>False</td>\n",
              "      <td>False</td>\n",
              "    </tr>\n",
              "    <tr>\n",
              "      <th>...</th>\n",
              "      <td>...</td>\n",
              "      <td>...</td>\n",
              "      <td>...</td>\n",
              "      <td>...</td>\n",
              "      <td>...</td>\n",
              "      <td>...</td>\n",
              "      <td>...</td>\n",
              "    </tr>\n",
              "    <tr>\n",
              "      <th>235</th>\n",
              "      <td>False</td>\n",
              "      <td>False</td>\n",
              "      <td>False</td>\n",
              "      <td>False</td>\n",
              "      <td>False</td>\n",
              "      <td>False</td>\n",
              "      <td>False</td>\n",
              "    </tr>\n",
              "    <tr>\n",
              "      <th>236</th>\n",
              "      <td>False</td>\n",
              "      <td>False</td>\n",
              "      <td>False</td>\n",
              "      <td>False</td>\n",
              "      <td>False</td>\n",
              "      <td>False</td>\n",
              "      <td>False</td>\n",
              "    </tr>\n",
              "    <tr>\n",
              "      <th>237</th>\n",
              "      <td>False</td>\n",
              "      <td>False</td>\n",
              "      <td>False</td>\n",
              "      <td>False</td>\n",
              "      <td>False</td>\n",
              "      <td>False</td>\n",
              "      <td>False</td>\n",
              "    </tr>\n",
              "    <tr>\n",
              "      <th>238</th>\n",
              "      <td>False</td>\n",
              "      <td>False</td>\n",
              "      <td>False</td>\n",
              "      <td>False</td>\n",
              "      <td>False</td>\n",
              "      <td>False</td>\n",
              "      <td>False</td>\n",
              "    </tr>\n",
              "    <tr>\n",
              "      <th>239</th>\n",
              "      <td>False</td>\n",
              "      <td>False</td>\n",
              "      <td>False</td>\n",
              "      <td>False</td>\n",
              "      <td>False</td>\n",
              "      <td>False</td>\n",
              "      <td>False</td>\n",
              "    </tr>\n",
              "  </tbody>\n",
              "</table>\n",
              "<p>240 rows × 7 columns</p>\n",
              "</div>\n",
              "      <button class=\"colab-df-convert\" onclick=\"convertToInteractive('df-e924ace3-84f8-48ce-8be9-71c029e5d2d2')\"\n",
              "              title=\"Convert this dataframe to an interactive table.\"\n",
              "              style=\"display:none;\">\n",
              "        \n",
              "  <svg xmlns=\"http://www.w3.org/2000/svg\" height=\"24px\"viewBox=\"0 0 24 24\"\n",
              "       width=\"24px\">\n",
              "    <path d=\"M0 0h24v24H0V0z\" fill=\"none\"/>\n",
              "    <path d=\"M18.56 5.44l.94 2.06.94-2.06 2.06-.94-2.06-.94-.94-2.06-.94 2.06-2.06.94zm-11 1L8.5 8.5l.94-2.06 2.06-.94-2.06-.94L8.5 2.5l-.94 2.06-2.06.94zm10 10l.94 2.06.94-2.06 2.06-.94-2.06-.94-.94-2.06-.94 2.06-2.06.94z\"/><path d=\"M17.41 7.96l-1.37-1.37c-.4-.4-.92-.59-1.43-.59-.52 0-1.04.2-1.43.59L10.3 9.45l-7.72 7.72c-.78.78-.78 2.05 0 2.83L4 21.41c.39.39.9.59 1.41.59.51 0 1.02-.2 1.41-.59l7.78-7.78 2.81-2.81c.8-.78.8-2.07 0-2.86zM5.41 20L4 18.59l7.72-7.72 1.47 1.35L5.41 20z\"/>\n",
              "  </svg>\n",
              "      </button>\n",
              "      \n",
              "  <style>\n",
              "    .colab-df-container {\n",
              "      display:flex;\n",
              "      flex-wrap:wrap;\n",
              "      gap: 12px;\n",
              "    }\n",
              "\n",
              "    .colab-df-convert {\n",
              "      background-color: #E8F0FE;\n",
              "      border: none;\n",
              "      border-radius: 50%;\n",
              "      cursor: pointer;\n",
              "      display: none;\n",
              "      fill: #1967D2;\n",
              "      height: 32px;\n",
              "      padding: 0 0 0 0;\n",
              "      width: 32px;\n",
              "    }\n",
              "\n",
              "    .colab-df-convert:hover {\n",
              "      background-color: #E2EBFA;\n",
              "      box-shadow: 0px 1px 2px rgba(60, 64, 67, 0.3), 0px 1px 3px 1px rgba(60, 64, 67, 0.15);\n",
              "      fill: #174EA6;\n",
              "    }\n",
              "\n",
              "    [theme=dark] .colab-df-convert {\n",
              "      background-color: #3B4455;\n",
              "      fill: #D2E3FC;\n",
              "    }\n",
              "\n",
              "    [theme=dark] .colab-df-convert:hover {\n",
              "      background-color: #434B5C;\n",
              "      box-shadow: 0px 1px 3px 1px rgba(0, 0, 0, 0.15);\n",
              "      filter: drop-shadow(0px 1px 2px rgba(0, 0, 0, 0.3));\n",
              "      fill: #FFFFFF;\n",
              "    }\n",
              "  </style>\n",
              "\n",
              "      <script>\n",
              "        const buttonEl =\n",
              "          document.querySelector('#df-e924ace3-84f8-48ce-8be9-71c029e5d2d2 button.colab-df-convert');\n",
              "        buttonEl.style.display =\n",
              "          google.colab.kernel.accessAllowed ? 'block' : 'none';\n",
              "\n",
              "        async function convertToInteractive(key) {\n",
              "          const element = document.querySelector('#df-e924ace3-84f8-48ce-8be9-71c029e5d2d2');\n",
              "          const dataTable =\n",
              "            await google.colab.kernel.invokeFunction('convertToInteractive',\n",
              "                                                     [key], {});\n",
              "          if (!dataTable) return;\n",
              "\n",
              "          const docLinkHtml = 'Like what you see? Visit the ' +\n",
              "            '<a target=\"_blank\" href=https://colab.research.google.com/notebooks/data_table.ipynb>data table notebook</a>'\n",
              "            + ' to learn more about interactive tables.';\n",
              "          element.innerHTML = '';\n",
              "          dataTable['output_type'] = 'display_data';\n",
              "          await google.colab.output.renderOutput(dataTable, element);\n",
              "          const docLink = document.createElement('div');\n",
              "          docLink.innerHTML = docLinkHtml;\n",
              "          element.appendChild(docLink);\n",
              "        }\n",
              "      </script>\n",
              "    </div>\n",
              "  </div>\n",
              "  "
            ]
          },
          "metadata": {},
          "execution_count": 64
        }
      ]
    },
    {
      "cell_type": "markdown",
      "source": [
        "Também não há valores Na, podemos assim, passar para o próximo passo."
      ],
      "metadata": {
        "id": "wUkiZ9gNuhWm"
      }
    },
    {
      "cell_type": "markdown",
      "source": [
        "## 2.2. Verificando as distribuições\n",
        "Para as variaveis quantitativas/numéricas, iremos analisar suas distribuições e seus boxplots. Essa análise, nos permitirá tirar hipóteses para modelarmos e, eventualmente, predizermos a variável resposta."
      ],
      "metadata": {
        "id": "_T2REp4uvAAW"
      }
    },
    {
      "cell_type": "code",
      "source": [
        "data.info()"
      ],
      "metadata": {
        "colab": {
          "base_uri": "https://localhost:8080/"
        },
        "id": "20Zy1bwpDRB3",
        "outputId": "c1f66c13-0a79-4b23-d420-588050629eef"
      },
      "execution_count": 97,
      "outputs": [
        {
          "output_type": "stream",
          "name": "stdout",
          "text": [
            "<class 'pandas.core.frame.DataFrame'>\n",
            "Int64Index: 177 entries, 0 to 225\n",
            "Data columns (total 7 columns):\n",
            " #   Column                  Non-Null Count  Dtype  \n",
            "---  ------                  --------------  -----  \n",
            " 0   Temperature (K)         177 non-null    int64  \n",
            " 1   Luminosity(L/Lo)        177 non-null    float64\n",
            " 2   Radius(R/Ro)            177 non-null    float64\n",
            " 3   Absolute magnitude(Mv)  177 non-null    float64\n",
            " 4   Star type               177 non-null    int64  \n",
            " 5   Star color              177 non-null    object \n",
            " 6   Spectral Class          177 non-null    object \n",
            "dtypes: float64(3), int64(2), object(2)\n",
            "memory usage: 11.1+ KB\n"
          ]
        }
      ]
    },
    {
      "cell_type": "markdown",
      "source": [
        "#### **Temperature (K)**"
      ],
      "metadata": {
        "id": "sGyzu7XD13dZ"
      }
    },
    {
      "cell_type": "code",
      "source": [
        "sns.set_palette(\"deep\")\n",
        "plt.figure(figsize = (10,4))\n",
        "plt.title('Distribuição: \"Temperature (K)\"', fontsize = 14)\n",
        "sns.distplot(data['Temperature (K)'])\n",
        "plt.grid(True)\n",
        "plt.show()"
      ],
      "metadata": {
        "colab": {
          "base_uri": "https://localhost:8080/",
          "height": 351
        },
        "id": "eV7Nesl72Bex",
        "outputId": "69f3a1b4-c132-4348-fd47-3000f354fed3"
      },
      "execution_count": 65,
      "outputs": [
        {
          "output_type": "stream",
          "name": "stderr",
          "text": [
            "/usr/local/lib/python3.7/dist-packages/seaborn/distributions.py:2619: FutureWarning: `distplot` is a deprecated function and will be removed in a future version. Please adapt your code to use either `displot` (a figure-level function with similar flexibility) or `histplot` (an axes-level function for histograms).\n",
            "  warnings.warn(msg, FutureWarning)\n"
          ]
        },
        {
          "output_type": "display_data",
          "data": {
            "text/plain": [
              "<Figure size 720x288 with 1 Axes>"
            ],
            "image/png": "[encoded data removed]"
          },
          "metadata": {
            "needs_background": "light"
          }
        }
      ]
    },
    {
      "cell_type": "code",
      "source": [
        "plt.figure(figsize = (10,4))\n",
        "sns.boxplot(data['Temperature (K)'])\n",
        "plt.title('Boxplot: \"Temperature (K)\"', fontsize = 14)\n",
        "plt.show()"
      ],
      "metadata": {
        "colab": {
          "base_uri": "https://localhost:8080/",
          "height": 351
        },
        "id": "n-nBvDeX77m1",
        "outputId": "5bb3be80-9256-491d-bf6c-32b98c0c1404"
      },
      "execution_count": 178,
      "outputs": [
        {
          "output_type": "stream",
          "name": "stderr",
          "text": [
            "/usr/local/lib/python3.7/dist-packages/seaborn/_decorators.py:43: FutureWarning: Pass the following variable as a keyword arg: x. From version 0.12, the only valid positional argument will be `data`, and passing other arguments without an explicit keyword will result in an error or misinterpretation.\n",
            "  FutureWarning\n"
          ]
        },
        {
          "output_type": "display_data",
          "data": {
            "text/plain": [
              "<Figure size 720x288 with 1 Axes>"
            ],
            "image/png": "[encoded data removed]"
          },
          "metadata": {
            "needs_background": "light"
          }
        }
      ]
    },
    {
      "cell_type": "markdown",
      "source": [
        "#### **Luminosity(L/Lo)**"
      ],
      "metadata": {
        "id": "RlKIB4Af8mZJ"
      }
    },
    {
      "cell_type": "code",
      "source": [
        "sns.set_palette(\"deep\")\n",
        "plt.figure(figsize = (10,4))\n",
        "plt.title('Distribuição: \"Luminosity(L/Lo)\"', fontsize = 14)\n",
        "sns.distplot(data['Luminosity(L/Lo)'])\n",
        "plt.grid(True)\n",
        "plt.show()"
      ],
      "metadata": {
        "colab": {
          "base_uri": "https://localhost:8080/",
          "height": 351
        },
        "id": "BCw0xxVM84Qh",
        "outputId": "3f180894-706e-47dd-b391-d245a1b568ab"
      },
      "execution_count": 73,
      "outputs": [
        {
          "output_type": "stream",
          "name": "stderr",
          "text": [
            "/usr/local/lib/python3.7/dist-packages/seaborn/distributions.py:2619: FutureWarning: `distplot` is a deprecated function and will be removed in a future version. Please adapt your code to use either `displot` (a figure-level function with similar flexibility) or `histplot` (an axes-level function for histograms).\n",
            "  warnings.warn(msg, FutureWarning)\n"
          ]
        },
        {
          "output_type": "display_data",
          "data": {
            "text/plain": [
              "<Figure size 720x288 with 1 Axes>"
            ],
            "image/png": "[encoded data removed]"
          },
          "metadata": {
            "needs_background": "light"
          }
        }
      ]
    },
    {
      "cell_type": "code",
      "source": [
        "plt.figure(figsize = (10,4))\n",
        "sns.boxplot(data['Luminosity(L/Lo)'])\n",
        "plt.title('Boxplot: \"Luminosity(L/Lo)\"', fontsize = 14)\n",
        "plt.show()"
      ],
      "metadata": {
        "colab": {
          "base_uri": "https://localhost:8080/",
          "height": 351
        },
        "id": "jaT_xj-T716_",
        "outputId": "628f1d57-44bc-4eeb-81b0-5b72eb3fcd4c"
      },
      "execution_count": 177,
      "outputs": [
        {
          "output_type": "stream",
          "name": "stderr",
          "text": [
            "/usr/local/lib/python3.7/dist-packages/seaborn/_decorators.py:43: FutureWarning: Pass the following variable as a keyword arg: x. From version 0.12, the only valid positional argument will be `data`, and passing other arguments without an explicit keyword will result in an error or misinterpretation.\n",
            "  FutureWarning\n"
          ]
        },
        {
          "output_type": "display_data",
          "data": {
            "text/plain": [
              "<Figure size 720x288 with 1 Axes>"
            ],
            "image/png": "[encoded data removed]"
          },
          "metadata": {
            "needs_background": "light"
          }
        }
      ]
    },
    {
      "cell_type": "markdown",
      "source": [
        "#### **Radius(R/Ro)**"
      ],
      "metadata": {
        "id": "G7Ane8Oc_7J0"
      }
    },
    {
      "cell_type": "code",
      "source": [
        "sns.set_palette(\"deep\")\n",
        "plt.figure(figsize = (10,4))\n",
        "plt.title('Distribuição: \"Radius(R/Ro)\"', fontsize = 14)\n",
        "sns.distplot(data['Radius(R/Ro)'])\n",
        "plt.grid(True)\n",
        "plt.show()"
      ],
      "metadata": {
        "colab": {
          "base_uri": "https://localhost:8080/",
          "height": 351
        },
        "id": "tebwtW_6ALET",
        "outputId": "92730591-74c7-4539-910d-ae26695cb3d5"
      },
      "execution_count": 102,
      "outputs": [
        {
          "output_type": "stream",
          "name": "stderr",
          "text": [
            "/usr/local/lib/python3.7/dist-packages/seaborn/distributions.py:2619: FutureWarning: `distplot` is a deprecated function and will be removed in a future version. Please adapt your code to use either `displot` (a figure-level function with similar flexibility) or `histplot` (an axes-level function for histograms).\n",
            "  warnings.warn(msg, FutureWarning)\n"
          ]
        },
        {
          "output_type": "display_data",
          "data": {
            "text/plain": [
              "<Figure size 720x288 with 1 Axes>"
            ],
            "image/png": "[encoded data removed]"
          },
          "metadata": {
            "needs_background": "light"
          }
        }
      ]
    },
    {
      "cell_type": "code",
      "source": [
        "plt.figure(figsize = (10,4))\n",
        "sns.boxplot(data['Radius(R/Ro)'])\n",
        "plt.title('Boxplot: \"Radius(R/Ro)\"', fontsize = 14)\n",
        "plt.show()"
      ],
      "metadata": {
        "colab": {
          "base_uri": "https://localhost:8080/",
          "height": 351
        },
        "id": "OZC3l83J7wDF",
        "outputId": "b5313ffb-4edb-4276-ceb2-c4441c0815ec"
      },
      "execution_count": 176,
      "outputs": [
        {
          "output_type": "stream",
          "name": "stderr",
          "text": [
            "/usr/local/lib/python3.7/dist-packages/seaborn/_decorators.py:43: FutureWarning: Pass the following variable as a keyword arg: x. From version 0.12, the only valid positional argument will be `data`, and passing other arguments without an explicit keyword will result in an error or misinterpretation.\n",
            "  FutureWarning\n"
          ]
        },
        {
          "output_type": "display_data",
          "data": {
            "text/plain": [
              "<Figure size 720x288 with 1 Axes>"
            ],
            "image/png": "[encoded data removed]"
          },
          "metadata": {
            "needs_background": "light"
          }
        }
      ]
    },
    {
      "cell_type": "markdown",
      "source": [
        "#### **Absolute magnitude(Mv)**"
      ],
      "metadata": {
        "id": "i4wqWAjiBmYC"
      }
    },
    {
      "cell_type": "code",
      "source": [
        "sns.set_palette(\"deep\")\n",
        "plt.figure(figsize = (10,4))\n",
        "plt.title('Distribuição: \"Absolute magnitude(Mv)\"', fontsize = 14)\n",
        "sns.distplot(data['Absolute magnitude(Mv)'])\n",
        "plt.grid(True)\n",
        "plt.show()"
      ],
      "metadata": {
        "colab": {
          "base_uri": "https://localhost:8080/",
          "height": 351
        },
        "id": "djm-Yn-TBo3C",
        "outputId": "1e168b27-d657-4a1e-cd54-d596c69435b7"
      },
      "execution_count": 91,
      "outputs": [
        {
          "output_type": "stream",
          "name": "stderr",
          "text": [
            "/usr/local/lib/python3.7/dist-packages/seaborn/distributions.py:2619: FutureWarning: `distplot` is a deprecated function and will be removed in a future version. Please adapt your code to use either `displot` (a figure-level function with similar flexibility) or `histplot` (an axes-level function for histograms).\n",
            "  warnings.warn(msg, FutureWarning)\n"
          ]
        },
        {
          "output_type": "display_data",
          "data": {
            "text/plain": [
              "<Figure size 720x288 with 1 Axes>"
            ],
            "image/png": "[encoded data removed]"
          },
          "metadata": {
            "needs_background": "light"
          }
        }
      ]
    },
    {
      "cell_type": "code",
      "source": [
        "plt.figure(figsize = (10,4))\n",
        "sns.boxplot(data['Absolute magnitude(Mv)'])\n",
        "plt.title('Boxplot: \"Absolute magnitude(Mv)\"', fontsize = 14)\n",
        "plt.show()"
      ],
      "metadata": {
        "colab": {
          "base_uri": "https://localhost:8080/",
          "height": 351
        },
        "id": "OdiS_1mBByXj",
        "outputId": "5e00c927-1f2a-467d-d8bd-9eaf145f3281"
      },
      "execution_count": 92,
      "outputs": [
        {
          "output_type": "stream",
          "name": "stderr",
          "text": [
            "/usr/local/lib/python3.7/dist-packages/seaborn/_decorators.py:43: FutureWarning: Pass the following variable as a keyword arg: x. From version 0.12, the only valid positional argument will be `data`, and passing other arguments without an explicit keyword will result in an error or misinterpretation.\n",
            "  FutureWarning\n"
          ]
        },
        {
          "output_type": "display_data",
          "data": {
            "text/plain": [
              "<Figure size 720x288 with 1 Axes>"
            ],
            "image/png": "[encoded data removed]"
          },
          "metadata": {
            "needs_background": "light"
          }
        }
      ]
    },
    {
      "cell_type": "markdown",
      "source": [
        "Perceba que 3 das 4 variáveis numericas que analisamos possuem outliers. Num primeiro momento não iremos excluí-los do conjunto."
      ],
      "metadata": {
        "id": "ICkzIeYy-Xk8"
      }
    },
    {
      "cell_type": "markdown",
      "source": [
        "## 2.3. Variáveis categóricas\n",
        "Após analisarmos as variáveis quantitativas, analisaremos afundo as variáveis qualitativas/categóricas que temos no modelo."
      ],
      "metadata": {
        "id": "DVPsfm1TCtbF"
      }
    },
    {
      "cell_type": "code",
      "source": [
        "data.info()"
      ],
      "metadata": {
        "colab": {
          "base_uri": "https://localhost:8080/"
        },
        "id": "AQiYmryqDFrV",
        "outputId": "2a38db2f-4a3e-4fd2-eb78-f1a34c89a837"
      },
      "execution_count": 96,
      "outputs": [
        {
          "output_type": "stream",
          "name": "stdout",
          "text": [
            "<class 'pandas.core.frame.DataFrame'>\n",
            "Int64Index: 177 entries, 0 to 225\n",
            "Data columns (total 7 columns):\n",
            " #   Column                  Non-Null Count  Dtype  \n",
            "---  ------                  --------------  -----  \n",
            " 0   Temperature (K)         177 non-null    int64  \n",
            " 1   Luminosity(L/Lo)        177 non-null    float64\n",
            " 2   Radius(R/Ro)            177 non-null    float64\n",
            " 3   Absolute magnitude(Mv)  177 non-null    float64\n",
            " 4   Star type               177 non-null    int64  \n",
            " 5   Star color              177 non-null    object \n",
            " 6   Spectral Class          177 non-null    object \n",
            "dtypes: float64(3), int64(2), object(2)\n",
            "memory usage: 11.1+ KB\n"
          ]
        }
      ]
    },
    {
      "cell_type": "markdown",
      "source": [
        "#### **Star type**"
      ],
      "metadata": {
        "id": "VRYRY_OgC5j-"
      }
    },
    {
      "cell_type": "markdown",
      "source": [
        "Primeiro, vamos ver os possíveis valores para os tipos de estrela, que é nossa variável resposta."
      ],
      "metadata": {
        "id": "BzUP1opFIB31"
      }
    },
    {
      "cell_type": "code",
      "source": [
        "data['Star type'].unique()"
      ],
      "metadata": {
        "colab": {
          "base_uri": "https://localhost:8080/"
        },
        "id": "pXtpN4LiCRMj",
        "outputId": "220f84e6-36f4-473e-bd8d-af6afc223d18"
      },
      "execution_count": 108,
      "outputs": [
        {
          "output_type": "execute_result",
          "data": {
            "text/plain": [
              "array([0, 1, 2, 3, 4, 5])"
            ]
          },
          "metadata": {},
          "execution_count": 108
        }
      ]
    },
    {
      "cell_type": "markdown",
      "source": [
        "Sabemos que esse valores são, na verdade, rótulos para os tipos de estralas *(Red Dwarf, Brown Dwarf, White Dwarf, Main Sequence , SuperGiants, HyperGiants)*."
      ],
      "metadata": {
        "id": "VTFMuqqEBmTi"
      }
    },
    {
      "cell_type": "code",
      "source": [
        "star_type = {'Rótulo':data['Star type'].unique(),'Tipo da Estrela':['Red Dwarf', 'Brown Dwarf', 'White Dwarf', 'Main Sequence' , 'SuperGiants', 'HyperGiants']}\n",
        "var_resposta = pd.DataFrame(star_type)\n",
        "var_resposta.set_index('Rótulo')\n"
      ],
      "metadata": {
        "colab": {
          "base_uri": "https://localhost:8080/",
          "height": 269
        },
        "id": "b17wBrGlO8pD",
        "outputId": "99a651d8-0063-410c-b26f-95e9f62af9f4"
      },
      "execution_count": 179,
      "outputs": [
        {
          "output_type": "execute_result",
          "data": {
            "text/plain": [
              "       Tipo da Estrela\n",
              "Rótulo                \n",
              "0            Red Dwarf\n",
              "1          Brown Dwarf\n",
              "2          White Dwarf\n",
              "3        Main Sequence\n",
              "4          SuperGiants\n",
              "5          HyperGiants"
            ],
            "text/html": [
              "\n",
              "  <div id=\"df-07055d5c-0db2-4a7a-a47b-a9ee437445a7\">\n",
              "    <div class=\"colab-df-container\">\n",
              "      <div>\n",
              "<style scoped>\n",
              "    .dataframe tbody tr th:only-of-type {\n",
              "        vertical-align: middle;\n",
              "    }\n",
              "\n",
              "    .dataframe tbody tr th {\n",
              "        vertical-align: top;\n",
              "    }\n",
              "\n",
              "    .dataframe thead th {\n",
              "        text-align: right;\n",
              "    }\n",
              "</style>\n",
              "<table border=\"1\" class=\"dataframe\">\n",
              "  <thead>\n",
              "    <tr style=\"text-align: right;\">\n",
              "      <th></th>\n",
              "      <th>Tipo da Estrela</th>\n",
              "    </tr>\n",
              "    <tr>\n",
              "      <th>Rótulo</th>\n",
              "      <th></th>\n",
              "    </tr>\n",
              "  </thead>\n",
              "  <tbody>\n",
              "    <tr>\n",
              "      <th>0</th>\n",
              "      <td>Red Dwarf</td>\n",
              "    </tr>\n",
              "    <tr>\n",
              "      <th>1</th>\n",
              "      <td>Brown Dwarf</td>\n",
              "    </tr>\n",
              "    <tr>\n",
              "      <th>2</th>\n",
              "      <td>White Dwarf</td>\n",
              "    </tr>\n",
              "    <tr>\n",
              "      <th>3</th>\n",
              "      <td>Main Sequence</td>\n",
              "    </tr>\n",
              "    <tr>\n",
              "      <th>4</th>\n",
              "      <td>SuperGiants</td>\n",
              "    </tr>\n",
              "    <tr>\n",
              "      <th>5</th>\n",
              "      <td>HyperGiants</td>\n",
              "    </tr>\n",
              "  </tbody>\n",
              "</table>\n",
              "</div>\n",
              "      <button class=\"colab-df-convert\" onclick=\"convertToInteractive('df-07055d5c-0db2-4a7a-a47b-a9ee437445a7')\"\n",
              "              title=\"Convert this dataframe to an interactive table.\"\n",
              "              style=\"display:none;\">\n",
              "        \n",
              "  <svg xmlns=\"http://www.w3.org/2000/svg\" height=\"24px\"viewBox=\"0 0 24 24\"\n",
              "       width=\"24px\">\n",
              "    <path d=\"M0 0h24v24H0V0z\" fill=\"none\"/>\n",
              "    <path d=\"M18.56 5.44l.94 2.06.94-2.06 2.06-.94-2.06-.94-.94-2.06-.94 2.06-2.06.94zm-11 1L8.5 8.5l.94-2.06 2.06-.94-2.06-.94L8.5 2.5l-.94 2.06-2.06.94zm10 10l.94 2.06.94-2.06 2.06-.94-2.06-.94-.94-2.06-.94 2.06-2.06.94z\"/><path d=\"M17.41 7.96l-1.37-1.37c-.4-.4-.92-.59-1.43-.59-.52 0-1.04.2-1.43.59L10.3 9.45l-7.72 7.72c-.78.78-.78 2.05 0 2.83L4 21.41c.39.39.9.59 1.41.59.51 0 1.02-.2 1.41-.59l7.78-7.78 2.81-2.81c.8-.78.8-2.07 0-2.86zM5.41 20L4 18.59l7.72-7.72 1.47 1.35L5.41 20z\"/>\n",
              "  </svg>\n",
              "      </button>\n",
              "      \n",
              "  <style>\n",
              "    .colab-df-container {\n",
              "      display:flex;\n",
              "      flex-wrap:wrap;\n",
              "      gap: 12px;\n",
              "    }\n",
              "\n",
              "    .colab-df-convert {\n",
              "      background-color: #E8F0FE;\n",
              "      border: none;\n",
              "      border-radius: 50%;\n",
              "      cursor: pointer;\n",
              "      display: none;\n",
              "      fill: #1967D2;\n",
              "      height: 32px;\n",
              "      padding: 0 0 0 0;\n",
              "      width: 32px;\n",
              "    }\n",
              "\n",
              "    .colab-df-convert:hover {\n",
              "      background-color: #E2EBFA;\n",
              "      box-shadow: 0px 1px 2px rgba(60, 64, 67, 0.3), 0px 1px 3px 1px rgba(60, 64, 67, 0.15);\n",
              "      fill: #174EA6;\n",
              "    }\n",
              "\n",
              "    [theme=dark] .colab-df-convert {\n",
              "      background-color: #3B4455;\n",
              "      fill: #D2E3FC;\n",
              "    }\n",
              "\n",
              "    [theme=dark] .colab-df-convert:hover {\n",
              "      background-color: #434B5C;\n",
              "      box-shadow: 0px 1px 3px 1px rgba(0, 0, 0, 0.15);\n",
              "      filter: drop-shadow(0px 1px 2px rgba(0, 0, 0, 0.3));\n",
              "      fill: #FFFFFF;\n",
              "    }\n",
              "  </style>\n",
              "\n",
              "      <script>\n",
              "        const buttonEl =\n",
              "          document.querySelector('#df-07055d5c-0db2-4a7a-a47b-a9ee437445a7 button.colab-df-convert');\n",
              "        buttonEl.style.display =\n",
              "          google.colab.kernel.accessAllowed ? 'block' : 'none';\n",
              "\n",
              "        async function convertToInteractive(key) {\n",
              "          const element = document.querySelector('#df-07055d5c-0db2-4a7a-a47b-a9ee437445a7');\n",
              "          const dataTable =\n",
              "            await google.colab.kernel.invokeFunction('convertToInteractive',\n",
              "                                                     [key], {});\n",
              "          if (!dataTable) return;\n",
              "\n",
              "          const docLinkHtml = 'Like what you see? Visit the ' +\n",
              "            '<a target=\"_blank\" href=https://colab.research.google.com/notebooks/data_table.ipynb>data table notebook</a>'\n",
              "            + ' to learn more about interactive tables.';\n",
              "          element.innerHTML = '';\n",
              "          dataTable['output_type'] = 'display_data';\n",
              "          await google.colab.output.renderOutput(dataTable, element);\n",
              "          const docLink = document.createElement('div');\n",
              "          docLink.innerHTML = docLinkHtml;\n",
              "          element.appendChild(docLink);\n",
              "        }\n",
              "      </script>\n",
              "    </div>\n",
              "  </div>\n",
              "  "
            ]
          },
          "metadata": {},
          "execution_count": 179
        }
      ]
    },
    {
      "cell_type": "markdown",
      "source": [
        "Acima um dataframe completo com a relação dos rótulos da variável reposta."
      ],
      "metadata": {
        "id": "2j7c8QuiBmO6"
      }
    },
    {
      "cell_type": "markdown",
      "source": [
        "#### **Spectral Class**"
      ],
      "metadata": {
        "id": "q7qxOSoKP_vc"
      }
    },
    {
      "cell_type": "markdown",
      "source": [
        "Outra variável categórica é a \"Spectral Class\", esta ainda não está rotulada, vamos ver os valores possíveis para o campo:"
      ],
      "metadata": {
        "id": "VhJkA3V5QFsj"
      }
    },
    {
      "cell_type": "code",
      "source": [
        "data['Spectral Class'].unique()"
      ],
      "metadata": {
        "colab": {
          "base_uri": "https://localhost:8080/"
        },
        "id": "fC4z6uyPNzCb",
        "outputId": "0396087b-07b2-4e23-bd5a-493659ae2e4f"
      },
      "execution_count": 114,
      "outputs": [
        {
          "output_type": "execute_result",
          "data": {
            "text/plain": [
              "array(['M', 'B', 'A', 'F', 'O', 'K', 'G'], dtype=object)"
            ]
          },
          "metadata": {},
          "execution_count": 114
        }
      ]
    },
    {
      "cell_type": "markdown",
      "source": [
        "Perceba que há letras maiúsculas que representam classe esectrais, para entendermos melhor:"
      ],
      "metadata": {
        "id": "gIhkNhSJQ0DL"
      }
    },
    {
      "cell_type": "markdown",
      "source": [
        "![HRdiagram.gif](data:image/gif;base64,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)"
      ],
      "metadata": {
        "id": "va-oMi5YQq77"
      }
    },
    {
      "cell_type": "markdown",
      "source": [
        "Agora, precisamos rotular essa feature. Afinal, em nossos modelos atuaremos com variáveis numéricas. Assim, usaremos o LabelEncoder() para essa codificação."
      ],
      "metadata": {
        "id": "T-C8ZvIDRCUU"
      }
    },
    {
      "cell_type": "code",
      "source": [
        "from sklearn import preprocessing\n",
        "\n",
        "label_encoder1 = preprocessing.LabelEncoder()\n",
        "data['Spectral Class'] = label_encoder1.fit_transform(data['Spectral Class'])\n",
        "data['Spectral Class'].value_counts()"
      ],
      "metadata": {
        "colab": {
          "base_uri": "https://localhost:8080/"
        },
        "id": "DyCx7G75RXlM",
        "outputId": "c00bb05c-8e94-42f7-f10f-9d12e6d8b638"
      },
      "execution_count": 115,
      "outputs": [
        {
          "output_type": "execute_result",
          "data": {
            "text/plain": [
              "5    111\n",
              "1     46\n",
              "6     40\n",
              "0     19\n",
              "2     17\n",
              "4      6\n",
              "3      1\n",
              "Name: Spectral Class, dtype: int64"
            ]
          },
          "metadata": {},
          "execution_count": 115
        }
      ]
    },
    {
      "cell_type": "code",
      "source": [
        "data['Spectral Class'].unique()"
      ],
      "metadata": {
        "colab": {
          "base_uri": "https://localhost:8080/"
        },
        "id": "yNWwa7BiTRPI",
        "outputId": "30e4e70b-ba21-4fb9-864a-2a130e7ce258"
      },
      "execution_count": 116,
      "outputs": [
        {
          "output_type": "execute_result",
          "data": {
            "text/plain": [
              "array([5, 1, 0, 2, 6, 4, 3])"
            ]
          },
          "metadata": {},
          "execution_count": 116
        }
      ]
    },
    {
      "cell_type": "markdown",
      "source": [
        "#### **Star color**"
      ],
      "metadata": {
        "id": "iF8aKms3TdJL"
      }
    },
    {
      "cell_type": "markdown",
      "source": [
        "Por último, temos a \"Star color\" sendo categórica, atuaremos nela de maneira similar."
      ],
      "metadata": {
        "id": "pTOvmMvuTgQb"
      }
    },
    {
      "cell_type": "code",
      "source": [
        "data['Star color'].unique()"
      ],
      "metadata": {
        "colab": {
          "base_uri": "https://localhost:8080/"
        },
        "id": "CxYzz0frOPks",
        "outputId": "8d11f797-2c39-47d2-a05c-0077b6991f79"
      },
      "execution_count": 118,
      "outputs": [
        {
          "output_type": "execute_result",
          "data": {
            "text/plain": [
              "array(['Red', 'Blue White', 'White', 'Yellowish White', 'Blue white',\n",
              "       'Pale yellow orange', 'Blue', 'Blue-white', 'Whitish',\n",
              "       'yellow-white', 'Orange', 'White-Yellow', 'white', 'Blue ',\n",
              "       'yellowish', 'Yellowish', 'Orange-Red', 'Blue white ',\n",
              "       'Blue-White'], dtype=object)"
            ]
          },
          "metadata": {},
          "execution_count": 118
        }
      ]
    },
    {
      "cell_type": "code",
      "source": [
        "label_encoder1 = preprocessing.LabelEncoder()\n",
        "data['Star color'] = label_encoder1.fit_transform(data['Star color'])\n",
        "data['Star color'].value_counts()"
      ],
      "metadata": {
        "colab": {
          "base_uri": "https://localhost:8080/"
        },
        "id": "LeN9e3oyUAQa",
        "outputId": "a91281ee-7cdd-4acf-a590-334be6f2fb41"
      },
      "execution_count": 119,
      "outputs": [
        {
          "output_type": "execute_result",
          "data": {
            "text/plain": [
              "10    112\n",
              "0      55\n",
              "6      26\n",
              "2      10\n",
              "17      8\n",
              "11      7\n",
              "3       3\n",
              "15      3\n",
              "16      3\n",
              "13      2\n",
              "7       2\n",
              "18      2\n",
              "9       1\n",
              "12      1\n",
              "1       1\n",
              "14      1\n",
              "8       1\n",
              "4       1\n",
              "5       1\n",
              "Name: Star color, dtype: int64"
            ]
          },
          "metadata": {},
          "execution_count": 119
        }
      ]
    },
    {
      "cell_type": "code",
      "source": [
        "data['Star color'].unique()"
      ],
      "metadata": {
        "colab": {
          "base_uri": "https://localhost:8080/"
        },
        "id": "2cTEwO--UAOb",
        "outputId": "8508f35b-4720-4c4b-d16b-6be9d4538b3b"
      },
      "execution_count": 120,
      "outputs": [
        {
          "output_type": "execute_result",
          "data": {
            "text/plain": [
              "array([10,  2, 11, 15,  3,  9,  0,  6, 13, 17,  7, 12, 16,  1, 18, 14,  8,\n",
              "        4,  5])"
            ]
          },
          "metadata": {},
          "execution_count": 120
        }
      ]
    },
    {
      "cell_type": "markdown",
      "source": [
        "Concluímos as codificações, vejamos como os tipos de dados mudaram:"
      ],
      "metadata": {
        "id": "SrYATWMjUNmz"
      }
    },
    {
      "cell_type": "code",
      "source": [
        "data.info()"
      ],
      "metadata": {
        "colab": {
          "base_uri": "https://localhost:8080/"
        },
        "id": "WBpGxAJXUAL7",
        "outputId": "27ce7140-ab16-43b8-c705-269fc49780a1"
      },
      "execution_count": 121,
      "outputs": [
        {
          "output_type": "stream",
          "name": "stdout",
          "text": [
            "<class 'pandas.core.frame.DataFrame'>\n",
            "RangeIndex: 240 entries, 0 to 239\n",
            "Data columns (total 7 columns):\n",
            " #   Column                  Non-Null Count  Dtype  \n",
            "---  ------                  --------------  -----  \n",
            " 0   Temperature (K)         240 non-null    int64  \n",
            " 1   Luminosity(L/Lo)        240 non-null    float64\n",
            " 2   Radius(R/Ro)            240 non-null    float64\n",
            " 3   Absolute magnitude(Mv)  240 non-null    float64\n",
            " 4   Star type               240 non-null    int64  \n",
            " 5   Star color              240 non-null    int64  \n",
            " 6   Spectral Class          240 non-null    int64  \n",
            "dtypes: float64(3), int64(4)\n",
            "memory usage: 13.2 KB\n"
          ]
        }
      ]
    },
    {
      "cell_type": "markdown",
      "source": [
        "## 2.4. Correlações\n",
        "A partir daqui, nossa análise não será na estrutura de nossas variáveis, e sim nas estatísticas que elas possuem. Primeiramente, vamos resumir todas as features:"
      ],
      "metadata": {
        "id": "VAiGz3x9UXaM"
      }
    },
    {
      "cell_type": "code",
      "source": [
        "data.describe()"
      ],
      "metadata": {
        "colab": {
          "base_uri": "https://localhost:8080/",
          "height": 300
        },
        "id": "IaG3rULcUzWT",
        "outputId": "0cf68e12-bd40-4585-96ca-464b3a3786ca"
      },
      "execution_count": 122,
      "outputs": [
        {
          "output_type": "execute_result",
          "data": {
            "text/plain": [
              "       Temperature (K)  Luminosity(L/Lo)  Radius(R/Ro)  \\\n",
              "count       240.000000        240.000000    240.000000   \n",
              "mean      10497.462500     107188.361635    237.157781   \n",
              "std        9552.425037     179432.244940    517.155763   \n",
              "min        1939.000000          0.000080      0.008400   \n",
              "25%        3344.250000          0.000865      0.102750   \n",
              "50%        5776.000000          0.070500      0.762500   \n",
              "75%       15055.500000     198050.000000     42.750000   \n",
              "max       40000.000000     849420.000000   1948.500000   \n",
              "\n",
              "       Absolute magnitude(Mv)   Star type  Star color  Spectral Class  \n",
              "count              240.000000  240.000000  240.000000      240.000000  \n",
              "mean                 4.382396    2.500000    7.250000        3.758333  \n",
              "std                 10.532512    1.711394    4.926659        2.090007  \n",
              "min                -11.920000    0.000000    0.000000        0.000000  \n",
              "25%                 -6.232500    1.000000    2.000000        1.000000  \n",
              "50%                  8.313000    2.500000   10.000000        5.000000  \n",
              "75%                 13.697500    4.000000   10.000000        5.000000  \n",
              "max                 20.060000    5.000000   18.000000        6.000000  "
            ],
            "text/html": [
              "\n",
              "  <div id=\"df-5d572fb7-9eb2-4e83-8c00-ce85f1958323\">\n",
              "    <div class=\"colab-df-container\">\n",
              "      <div>\n",
              "<style scoped>\n",
              "    .dataframe tbody tr th:only-of-type {\n",
              "        vertical-align: middle;\n",
              "    }\n",
              "\n",
              "    .dataframe tbody tr th {\n",
              "        vertical-align: top;\n",
              "    }\n",
              "\n",
              "    .dataframe thead th {\n",
              "        text-align: right;\n",
              "    }\n",
              "</style>\n",
              "<table border=\"1\" class=\"dataframe\">\n",
              "  <thead>\n",
              "    <tr style=\"text-align: right;\">\n",
              "      <th></th>\n",
              "      <th>Temperature (K)</th>\n",
              "      <th>Luminosity(L/Lo)</th>\n",
              "      <th>Radius(R/Ro)</th>\n",
              "      <th>Absolute magnitude(Mv)</th>\n",
              "      <th>Star type</th>\n",
              "      <th>Star color</th>\n",
              "      <th>Spectral Class</th>\n",
              "    </tr>\n",
              "  </thead>\n",
              "  <tbody>\n",
              "    <tr>\n",
              "      <th>count</th>\n",
              "      <td>240.000000</td>\n",
              "      <td>240.000000</td>\n",
              "      <td>240.000000</td>\n",
              "      <td>240.000000</td>\n",
              "      <td>240.000000</td>\n",
              "      <td>240.000000</td>\n",
              "      <td>240.000000</td>\n",
              "    </tr>\n",
              "    <tr>\n",
              "      <th>mean</th>\n",
              "      <td>10497.462500</td>\n",
              "      <td>107188.361635</td>\n",
              "      <td>237.157781</td>\n",
              "      <td>4.382396</td>\n",
              "      <td>2.500000</td>\n",
              "      <td>7.250000</td>\n",
              "      <td>3.758333</td>\n",
              "    </tr>\n",
              "    <tr>\n",
              "      <th>std</th>\n",
              "      <td>9552.425037</td>\n",
              "      <td>179432.244940</td>\n",
              "      <td>517.155763</td>\n",
              "      <td>10.532512</td>\n",
              "      <td>1.711394</td>\n",
              "      <td>4.926659</td>\n",
              "      <td>2.090007</td>\n",
              "    </tr>\n",
              "    <tr>\n",
              "      <th>min</th>\n",
              "      <td>1939.000000</td>\n",
              "      <td>0.000080</td>\n",
              "      <td>0.008400</td>\n",
              "      <td>-11.920000</td>\n",
              "      <td>0.000000</td>\n",
              "      <td>0.000000</td>\n",
              "      <td>0.000000</td>\n",
              "    </tr>\n",
              "    <tr>\n",
              "      <th>25%</th>\n",
              "      <td>3344.250000</td>\n",
              "      <td>0.000865</td>\n",
              "      <td>0.102750</td>\n",
              "      <td>-6.232500</td>\n",
              "      <td>1.000000</td>\n",
              "      <td>2.000000</td>\n",
              "      <td>1.000000</td>\n",
              "    </tr>\n",
              "    <tr>\n",
              "      <th>50%</th>\n",
              "      <td>5776.000000</td>\n",
              "      <td>0.070500</td>\n",
              "      <td>0.762500</td>\n",
              "      <td>8.313000</td>\n",
              "      <td>2.500000</td>\n",
              "      <td>10.000000</td>\n",
              "      <td>5.000000</td>\n",
              "    </tr>\n",
              "    <tr>\n",
              "      <th>75%</th>\n",
              "      <td>15055.500000</td>\n",
              "      <td>198050.000000</td>\n",
              "      <td>42.750000</td>\n",
              "      <td>13.697500</td>\n",
              "      <td>4.000000</td>\n",
              "      <td>10.000000</td>\n",
              "      <td>5.000000</td>\n",
              "    </tr>\n",
              "    <tr>\n",
              "      <th>max</th>\n",
              "      <td>40000.000000</td>\n",
              "      <td>849420.000000</td>\n",
              "      <td>1948.500000</td>\n",
              "      <td>20.060000</td>\n",
              "      <td>5.000000</td>\n",
              "      <td>18.000000</td>\n",
              "      <td>6.000000</td>\n",
              "    </tr>\n",
              "  </tbody>\n",
              "</table>\n",
              "</div>\n",
              "      <button class=\"colab-df-convert\" onclick=\"convertToInteractive('df-5d572fb7-9eb2-4e83-8c00-ce85f1958323')\"\n",
              "              title=\"Convert this dataframe to an interactive table.\"\n",
              "              style=\"display:none;\">\n",
              "        \n",
              "  <svg xmlns=\"http://www.w3.org/2000/svg\" height=\"24px\"viewBox=\"0 0 24 24\"\n",
              "       width=\"24px\">\n",
              "    <path d=\"M0 0h24v24H0V0z\" fill=\"none\"/>\n",
              "    <path d=\"M18.56 5.44l.94 2.06.94-2.06 2.06-.94-2.06-.94-.94-2.06-.94 2.06-2.06.94zm-11 1L8.5 8.5l.94-2.06 2.06-.94-2.06-.94L8.5 2.5l-.94 2.06-2.06.94zm10 10l.94 2.06.94-2.06 2.06-.94-2.06-.94-.94-2.06-.94 2.06-2.06.94z\"/><path d=\"M17.41 7.96l-1.37-1.37c-.4-.4-.92-.59-1.43-.59-.52 0-1.04.2-1.43.59L10.3 9.45l-7.72 7.72c-.78.78-.78 2.05 0 2.83L4 21.41c.39.39.9.59 1.41.59.51 0 1.02-.2 1.41-.59l7.78-7.78 2.81-2.81c.8-.78.8-2.07 0-2.86zM5.41 20L4 18.59l7.72-7.72 1.47 1.35L5.41 20z\"/>\n",
              "  </svg>\n",
              "      </button>\n",
              "      \n",
              "  <style>\n",
              "    .colab-df-container {\n",
              "      display:flex;\n",
              "      flex-wrap:wrap;\n",
              "      gap: 12px;\n",
              "    }\n",
              "\n",
              "    .colab-df-convert {\n",
              "      background-color: #E8F0FE;\n",
              "      border: none;\n",
              "      border-radius: 50%;\n",
              "      cursor: pointer;\n",
              "      display: none;\n",
              "      fill: #1967D2;\n",
              "      height: 32px;\n",
              "      padding: 0 0 0 0;\n",
              "      width: 32px;\n",
              "    }\n",
              "\n",
              "    .colab-df-convert:hover {\n",
              "      background-color: #E2EBFA;\n",
              "      box-shadow: 0px 1px 2px rgba(60, 64, 67, 0.3), 0px 1px 3px 1px rgba(60, 64, 67, 0.15);\n",
              "      fill: #174EA6;\n",
              "    }\n",
              "\n",
              "    [theme=dark] .colab-df-convert {\n",
              "      background-color: #3B4455;\n",
              "      fill: #D2E3FC;\n",
              "    }\n",
              "\n",
              "    [theme=dark] .colab-df-convert:hover {\n",
              "      background-color: #434B5C;\n",
              "      box-shadow: 0px 1px 3px 1px rgba(0, 0, 0, 0.15);\n",
              "      filter: drop-shadow(0px 1px 2px rgba(0, 0, 0, 0.3));\n",
              "      fill: #FFFFFF;\n",
              "    }\n",
              "  </style>\n",
              "\n",
              "      <script>\n",
              "        const buttonEl =\n",
              "          document.querySelector('#df-5d572fb7-9eb2-4e83-8c00-ce85f1958323 button.colab-df-convert');\n",
              "        buttonEl.style.display =\n",
              "          google.colab.kernel.accessAllowed ? 'block' : 'none';\n",
              "\n",
              "        async function convertToInteractive(key) {\n",
              "          const element = document.querySelector('#df-5d572fb7-9eb2-4e83-8c00-ce85f1958323');\n",
              "          const dataTable =\n",
              "            await google.colab.kernel.invokeFunction('convertToInteractive',\n",
              "                                                     [key], {});\n",
              "          if (!dataTable) return;\n",
              "\n",
              "          const docLinkHtml = 'Like what you see? Visit the ' +\n",
              "            '<a target=\"_blank\" href=https://colab.research.google.com/notebooks/data_table.ipynb>data table notebook</a>'\n",
              "            + ' to learn more about interactive tables.';\n",
              "          element.innerHTML = '';\n",
              "          dataTable['output_type'] = 'display_data';\n",
              "          await google.colab.output.renderOutput(dataTable, element);\n",
              "          const docLink = document.createElement('div');\n",
              "          docLink.innerHTML = docLinkHtml;\n",
              "          element.appendChild(docLink);\n",
              "        }\n",
              "      </script>\n",
              "    </div>\n",
              "  </div>\n",
              "  "
            ]
          },
          "metadata": {},
          "execution_count": 122
        }
      ]
    },
    {
      "cell_type": "markdown",
      "source": [
        "Só com esse resumo já podemos extrair alguns insights. O campo \"std\" para as variáveis numéricas, são bem altos, ou seja, a variância nesse campos é alta. Um fator que pode estar atrapalhando é a presença de outliers. Na predição, caso não tenhamos bons resultados, seria interessantos excluirmos esse valores do modelo.\n",
        "\n",
        "Uma outra análise fundamental é a matriz de correlações:"
      ],
      "metadata": {
        "id": "cHue437pUXOk"
      }
    },
    {
      "cell_type": "code",
      "source": [
        "data.corr()"
      ],
      "metadata": {
        "colab": {
          "base_uri": "https://localhost:8080/",
          "height": 269
        },
        "id": "FjK78X8YVgwj",
        "outputId": "81916338-ee84-4340-ccc2-47790da8a28c"
      },
      "execution_count": 123,
      "outputs": [
        {
          "output_type": "execute_result",
          "data": {
            "text/plain": [
              "                        Temperature (K)  Luminosity(L/Lo)  Radius(R/Ro)  \\\n",
              "Temperature (K)                1.000000          0.393404      0.064216   \n",
              "Luminosity(L/Lo)               0.393404          1.000000      0.526516   \n",
              "Radius(R/Ro)                   0.064216          0.526516      1.000000   \n",
              "Absolute magnitude(Mv)        -0.420261         -0.692619     -0.608728   \n",
              "Star type                      0.411129          0.676845      0.660975   \n",
              "Star color                    -0.697438         -0.393509     -0.000818   \n",
              "Spectral Class                -0.207852          0.275280      0.097124   \n",
              "\n",
              "                        Absolute magnitude(Mv)  Star type  Star color  \\\n",
              "Temperature (K)                      -0.420261   0.411129   -0.697438   \n",
              "Luminosity(L/Lo)                     -0.692619   0.676845   -0.393509   \n",
              "Radius(R/Ro)                         -0.608728   0.660975   -0.000818   \n",
              "Absolute magnitude(Mv)                1.000000  -0.955276    0.333552   \n",
              "Star type                            -0.955276   1.000000   -0.317103   \n",
              "Star color                            0.333552  -0.317103    1.000000   \n",
              "Spectral Class                       -0.085840  -0.049131   -0.006298   \n",
              "\n",
              "                        Spectral Class  \n",
              "Temperature (K)              -0.207852  \n",
              "Luminosity(L/Lo)              0.275280  \n",
              "Radius(R/Ro)                  0.097124  \n",
              "Absolute magnitude(Mv)       -0.085840  \n",
              "Star type                    -0.049131  \n",
              "Star color                   -0.006298  \n",
              "Spectral Class                1.000000  "
            ],
            "text/html": [
              "\n",
              "  <div id=\"df-a4dc536a-8e21-4074-8735-f219fdd6564d\">\n",
              "    <div class=\"colab-df-container\">\n",
              "      <div>\n",
              "<style scoped>\n",
              "    .dataframe tbody tr th:only-of-type {\n",
              "        vertical-align: middle;\n",
              "    }\n",
              "\n",
              "    .dataframe tbody tr th {\n",
              "        vertical-align: top;\n",
              "    }\n",
              "\n",
              "    .dataframe thead th {\n",
              "        text-align: right;\n",
              "    }\n",
              "</style>\n",
              "<table border=\"1\" class=\"dataframe\">\n",
              "  <thead>\n",
              "    <tr style=\"text-align: right;\">\n",
              "      <th></th>\n",
              "      <th>Temperature (K)</th>\n",
              "      <th>Luminosity(L/Lo)</th>\n",
              "      <th>Radius(R/Ro)</th>\n",
              "      <th>Absolute magnitude(Mv)</th>\n",
              "      <th>Star type</th>\n",
              "      <th>Star color</th>\n",
              "      <th>Spectral Class</th>\n",
              "    </tr>\n",
              "  </thead>\n",
              "  <tbody>\n",
              "    <tr>\n",
              "      <th>Temperature (K)</th>\n",
              "      <td>1.000000</td>\n",
              "      <td>0.393404</td>\n",
              "      <td>0.064216</td>\n",
              "      <td>-0.420261</td>\n",
              "      <td>0.411129</td>\n",
              "      <td>-0.697438</td>\n",
              "      <td>-0.207852</td>\n",
              "    </tr>\n",
              "    <tr>\n",
              "      <th>Luminosity(L/Lo)</th>\n",
              "      <td>0.393404</td>\n",
              "      <td>1.000000</td>\n",
              "      <td>0.526516</td>\n",
              "      <td>-0.692619</td>\n",
              "      <td>0.676845</td>\n",
              "      <td>-0.393509</td>\n",
              "      <td>0.275280</td>\n",
              "    </tr>\n",
              "    <tr>\n",
              "      <th>Radius(R/Ro)</th>\n",
              "      <td>0.064216</td>\n",
              "      <td>0.526516</td>\n",
              "      <td>1.000000</td>\n",
              "      <td>-0.608728</td>\n",
              "      <td>0.660975</td>\n",
              "      <td>-0.000818</td>\n",
              "      <td>0.097124</td>\n",
              "    </tr>\n",
              "    <tr>\n",
              "      <th>Absolute magnitude(Mv)</th>\n",
              "      <td>-0.420261</td>\n",
              "      <td>-0.692619</td>\n",
              "      <td>-0.608728</td>\n",
              "      <td>1.000000</td>\n",
              "      <td>-0.955276</td>\n",
              "      <td>0.333552</td>\n",
              "      <td>-0.085840</td>\n",
              "    </tr>\n",
              "    <tr>\n",
              "      <th>Star type</th>\n",
              "      <td>0.411129</td>\n",
              "      <td>0.676845</td>\n",
              "      <td>0.660975</td>\n",
              "      <td>-0.955276</td>\n",
              "      <td>1.000000</td>\n",
              "      <td>-0.317103</td>\n",
              "      <td>-0.049131</td>\n",
              "    </tr>\n",
              "    <tr>\n",
              "      <th>Star color</th>\n",
              "      <td>-0.697438</td>\n",
              "      <td>-0.393509</td>\n",
              "      <td>-0.000818</td>\n",
              "      <td>0.333552</td>\n",
              "      <td>-0.317103</td>\n",
              "      <td>1.000000</td>\n",
              "      <td>-0.006298</td>\n",
              "    </tr>\n",
              "    <tr>\n",
              "      <th>Spectral Class</th>\n",
              "      <td>-0.207852</td>\n",
              "      <td>0.275280</td>\n",
              "      <td>0.097124</td>\n",
              "      <td>-0.085840</td>\n",
              "      <td>-0.049131</td>\n",
              "      <td>-0.006298</td>\n",
              "      <td>1.000000</td>\n",
              "    </tr>\n",
              "  </tbody>\n",
              "</table>\n",
              "</div>\n",
              "      <button class=\"colab-df-convert\" onclick=\"convertToInteractive('df-a4dc536a-8e21-4074-8735-f219fdd6564d')\"\n",
              "              title=\"Convert this dataframe to an interactive table.\"\n",
              "              style=\"display:none;\">\n",
              "        \n",
              "  <svg xmlns=\"http://www.w3.org/2000/svg\" height=\"24px\"viewBox=\"0 0 24 24\"\n",
              "       width=\"24px\">\n",
              "    <path d=\"M0 0h24v24H0V0z\" fill=\"none\"/>\n",
              "    <path d=\"M18.56 5.44l.94 2.06.94-2.06 2.06-.94-2.06-.94-.94-2.06-.94 2.06-2.06.94zm-11 1L8.5 8.5l.94-2.06 2.06-.94-2.06-.94L8.5 2.5l-.94 2.06-2.06.94zm10 10l.94 2.06.94-2.06 2.06-.94-2.06-.94-.94-2.06-.94 2.06-2.06.94z\"/><path d=\"M17.41 7.96l-1.37-1.37c-.4-.4-.92-.59-1.43-.59-.52 0-1.04.2-1.43.59L10.3 9.45l-7.72 7.72c-.78.78-.78 2.05 0 2.83L4 21.41c.39.39.9.59 1.41.59.51 0 1.02-.2 1.41-.59l7.78-7.78 2.81-2.81c.8-.78.8-2.07 0-2.86zM5.41 20L4 18.59l7.72-7.72 1.47 1.35L5.41 20z\"/>\n",
              "  </svg>\n",
              "      </button>\n",
              "      \n",
              "  <style>\n",
              "    .colab-df-container {\n",
              "      display:flex;\n",
              "      flex-wrap:wrap;\n",
              "      gap: 12px;\n",
              "    }\n",
              "\n",
              "    .colab-df-convert {\n",
              "      background-color: #E8F0FE;\n",
              "      border: none;\n",
              "      border-radius: 50%;\n",
              "      cursor: pointer;\n",
              "      display: none;\n",
              "      fill: #1967D2;\n",
              "      height: 32px;\n",
              "      padding: 0 0 0 0;\n",
              "      width: 32px;\n",
              "    }\n",
              "\n",
              "    .colab-df-convert:hover {\n",
              "      background-color: #E2EBFA;\n",
              "      box-shadow: 0px 1px 2px rgba(60, 64, 67, 0.3), 0px 1px 3px 1px rgba(60, 64, 67, 0.15);\n",
              "      fill: #174EA6;\n",
              "    }\n",
              "\n",
              "    [theme=dark] .colab-df-convert {\n",
              "      background-color: #3B4455;\n",
              "      fill: #D2E3FC;\n",
              "    }\n",
              "\n",
              "    [theme=dark] .colab-df-convert:hover {\n",
              "      background-color: #434B5C;\n",
              "      box-shadow: 0px 1px 3px 1px rgba(0, 0, 0, 0.15);\n",
              "      filter: drop-shadow(0px 1px 2px rgba(0, 0, 0, 0.3));\n",
              "      fill: #FFFFFF;\n",
              "    }\n",
              "  </style>\n",
              "\n",
              "      <script>\n",
              "        const buttonEl =\n",
              "          document.querySelector('#df-a4dc536a-8e21-4074-8735-f219fdd6564d button.colab-df-convert');\n",
              "        buttonEl.style.display =\n",
              "          google.colab.kernel.accessAllowed ? 'block' : 'none';\n",
              "\n",
              "        async function convertToInteractive(key) {\n",
              "          const element = document.querySelector('#df-a4dc536a-8e21-4074-8735-f219fdd6564d');\n",
              "          const dataTable =\n",
              "            await google.colab.kernel.invokeFunction('convertToInteractive',\n",
              "                                                     [key], {});\n",
              "          if (!dataTable) return;\n",
              "\n",
              "          const docLinkHtml = 'Like what you see? Visit the ' +\n",
              "            '<a target=\"_blank\" href=https://colab.research.google.com/notebooks/data_table.ipynb>data table notebook</a>'\n",
              "            + ' to learn more about interactive tables.';\n",
              "          element.innerHTML = '';\n",
              "          dataTable['output_type'] = 'display_data';\n",
              "          await google.colab.output.renderOutput(dataTable, element);\n",
              "          const docLink = document.createElement('div');\n",
              "          docLink.innerHTML = docLinkHtml;\n",
              "          element.appendChild(docLink);\n",
              "        }\n",
              "      </script>\n",
              "    </div>\n",
              "  </div>\n",
              "  "
            ]
          },
          "metadata": {},
          "execution_count": 123
        }
      ]
    },
    {
      "cell_type": "markdown",
      "source": [
        "A forma matricial pouca informção nos fornece, vejamos um mapa de calor"
      ],
      "metadata": {
        "id": "ld4Uk6bDVriD"
      }
    },
    {
      "cell_type": "code",
      "source": [
        "plt.figure(figsize = (10,7))\n",
        "plt.title('Mapa de Calor: Correlações', fontsize = 14)\n",
        "ax = sns.heatmap(data.corr(), cmap=\"YlGnBu\", annot = True)\n"
      ],
      "metadata": {
        "colab": {
          "base_uri": "https://localhost:8080/",
          "height": 559
        },
        "id": "qJ-Y6JyBVyQ8",
        "outputId": "90ab65f5-90aa-40bc-b647-de89f471b2f8"
      },
      "execution_count": 130,
      "outputs": [
        {
          "output_type": "display_data",
          "data": {
            "text/plain": [
              "<Figure size 720x504 with 2 Axes>"
            ],
            "image/png": "[encoded data removed]"
          },
          "metadata": {
            "needs_background": "light"
          }
        }
      ]
    },
    {
      "cell_type": "markdown",
      "source": [
        "Não há correlações significativas entre nossa variáveis explicativas. Ainda em busca de correlações, podemos ver gráficos de dispersão entre as variáveis."
      ],
      "metadata": {
        "id": "EUcdSwGwWNBD"
      }
    },
    {
      "cell_type": "code",
      "source": [
        "plt.figure(figsize = (10,7))\n",
        "sns.pairplot(data.drop(columns=['Star color', 'Spectral Class']) , hue= 'Star type', palette='YlGnBu')"
      ],
      "metadata": {
        "colab": {
          "base_uri": "https://localhost:8080/",
          "height": 761
        },
        "id": "GLwBwAwzOSfE",
        "outputId": "f7c47131-564f-4f11-e472-7fd8b07ba967"
      },
      "execution_count": 133,
      "outputs": [
        {
          "output_type": "execute_result",
          "data": {
            "text/plain": [
              "<seaborn.axisgrid.PairGrid at 0x7fdfa3f49050>"
            ]
          },
          "metadata": {},
          "execution_count": 133
        },
        {
          "output_type": "display_data",
          "data": {
            "text/plain": [
              "<Figure size 720x504 with 0 Axes>"
            ]
          },
          "metadata": {}
        },
        {
          "output_type": "display_data",
          "data": {
            "text/plain": [
              "<Figure size 773.625x720 with 20 Axes>"
            ],
            "image/png": "[encoded data removed]"
          },
          "metadata": {
            "needs_background": "light"
          }
        }
      ]
    },
    {
      "cell_type": "markdown",
      "source": [
        "# **3. Pré-Processamento**\n",
        "\n",
        "O última passo antes de finalmente predizermos será o pré-processamento. Aqui, dividiremos os conjuntos de teste e treinamento e normalizaremos nossas variáveis. O processo de normalização será necssário pois temos medidas totalmente distintas, com escalas e unidades de medida diferentes."
      ],
      "metadata": {
        "id": "-kIn-aODXNhD"
      }
    },
    {
      "cell_type": "markdown",
      "source": [
        "### 3.1. Dados de teste e treino"
      ],
      "metadata": {
        "id": "Hh0KtWITXva7"
      }
    },
    {
      "cell_type": "code",
      "source": [
        "from sklearn.model_selection import train_test_split\n",
        "\n",
        "X = data.drop(columns = ['Star type'])\n",
        "y = data['Star type']\n",
        "\n",
        "X_train, X_test, y_train, y_test = train_test_split(X, y)"
      ],
      "metadata": {
        "id": "J9uAOjPJXqik"
      },
      "execution_count": 135,
      "outputs": []
    },
    {
      "cell_type": "markdown",
      "source": [
        "### 3.2. Normalização"
      ],
      "metadata": {
        "id": "6nqIMsOhYUJs"
      }
    },
    {
      "cell_type": "code",
      "source": [
        "from sklearn.preprocessing import StandardScaler\n",
        "\n",
        "scaleX = StandardScaler()"
      ],
      "metadata": {
        "id": "_7GgWGk2XRaO"
      },
      "execution_count": 136,
      "outputs": []
    },
    {
      "cell_type": "code",
      "source": [
        "X_train = scaleX.fit_transform(X_train)\n",
        "X_test = scaleX.fit_transform(X_test)"
      ],
      "metadata": {
        "id": "imaaJK4GYb9_"
      },
      "execution_count": 137,
      "outputs": []
    },
    {
      "cell_type": "markdown",
      "source": [
        "# **4. Modelos de Predição**"
      ],
      "metadata": {
        "id": "wDPHiqBTYplb"
      }
    },
    {
      "cell_type": "markdown",
      "source": [
        "Finalmente chegamos a parte mais importante do projeto: tester e analisar os modelos de predição."
      ],
      "metadata": {
        "id": "QMNF9ospY7kc"
      }
    },
    {
      "cell_type": "code",
      "source": [
        "from sklearn.metrics import accuracy_score\n",
        "from sklearn.metrics import mean_squared_error\n",
        "from sklearn.linear_model import LogisticRegression\n",
        "from sklearn.neighbors import KNeighborsClassifier\n",
        "from xgboost import XGBClassifier\n",
        "from sklearn.ensemble import RandomForestClassifier\n",
        "from sklearn.naive_bayes import GaussianNB\n",
        "from sklearn.linear_model import SGDClassifier\n",
        "from sklearn.tree import DecisionTreeClassifier\n",
        "from sklearn.ensemble import AdaBoostClassifier"
      ],
      "metadata": {
        "id": "VAWkg28bYjch"
      },
      "execution_count": 139,
      "outputs": []
    },
    {
      "cell_type": "markdown",
      "source": [
        "Listas que irão guardar as acurácias:"
      ],
      "metadata": {
        "id": "G1mYMRvIZMR0"
      }
    },
    {
      "cell_type": "code",
      "source": [
        "mse_list = []\n",
        "accuracy_list = []"
      ],
      "metadata": {
        "id": "jYf56bg5ZHzc"
      },
      "execution_count": 161,
      "outputs": []
    },
    {
      "cell_type": "markdown",
      "source": [
        "## 4.1. Logistic Regression"
      ],
      "metadata": {
        "id": "U0GyEAZKZbEE"
      }
    },
    {
      "cell_type": "code",
      "source": [
        "logistic_regression = LogisticRegression() #iniciando o construtor\n",
        "\n",
        "logistic_regression.fit(X_train, y_train) #Treinando com o conjunto de treino\n",
        "\n",
        "y_pred = logistic_regression.predict(X_test) #Predizendo os valores\n",
        "\n",
        "accuracyLR = round(accuracy_score(y_test, y_pred), 4)\n",
        "mseLR = round(mean_squared_error(y_test, y_pred),4)\n",
        "\n",
        "accuracy_list.append(accuracyLR)\n",
        "mse_list.append(mseLR)\n",
        "\n",
        "print('Accuracy: ', accuracyLR)\n",
        "print('MSE:', mseLR)"
      ],
      "metadata": {
        "colab": {
          "base_uri": "https://localhost:8080/"
        },
        "id": "XUxmNzcKZPqB",
        "outputId": "7345cb40-035e-4254-d791-dac9d7baaa5f"
      },
      "execution_count": 162,
      "outputs": [
        {
          "output_type": "stream",
          "name": "stdout",
          "text": [
            "Accuracy:  0.9167\n",
            "MSE: 0.0833\n"
          ]
        }
      ]
    },
    {
      "cell_type": "markdown",
      "source": [
        "## 4.2. XGBClassifier"
      ],
      "metadata": {
        "id": "6f2XpjKSZjhr"
      }
    },
    {
      "cell_type": "code",
      "source": [
        "xgbclassifier = XGBClassifier()\n",
        "\n",
        "xgbclassifier.fit(X_train, y_train)\n",
        "\n",
        "y_pred = xgbclassifier.predict(X_test)\n",
        "\n",
        "accuracyXGB = round(accuracy_score(y_test, y_pred), 4)\n",
        "mseXGB = round(mean_squared_error(y_test, y_pred),4)\n",
        "\n",
        "accuracy_list.append(accuracyXGB)\n",
        "mse_list.append(mseXGB)\n",
        "\n",
        "print('Accuracy: ', accuracyXGB)\n",
        "print('MSE:', mseXGB)"
      ],
      "metadata": {
        "colab": {
          "base_uri": "https://localhost:8080/"
        },
        "id": "NSrUxMtJZS_j",
        "outputId": "86495290-a48b-4773-bb15-e286154126fc"
      },
      "execution_count": 163,
      "outputs": [
        {
          "output_type": "stream",
          "name": "stdout",
          "text": [
            "Accuracy:  0.65\n",
            "MSE: 0.55\n"
          ]
        }
      ]
    },
    {
      "cell_type": "markdown",
      "source": [
        "## 4.3. KNeighborsClassifier"
      ],
      "metadata": {
        "id": "wNEUMmi7eius"
      }
    },
    {
      "cell_type": "code",
      "source": [
        "kclassifier = KNeighborsClassifier()\n",
        "\n",
        "kclassifier.fit(X_train, y_train)\n",
        "\n",
        "y_pred = kclassifier.predict(X_test)\n",
        "\n",
        "accuracyknn = round(accuracy_score(y_test, y_pred), 4)\n",
        "mseknn = round(mean_squared_error(y_test, y_pred),4)\n",
        "\n",
        "accuracy_list.append(accuracyknn)\n",
        "mse_list.append(mseknn)\n",
        "\n",
        "print('Accuracy: ', accuracyknn)\n",
        "print('MSE:', mseknn)"
      ],
      "metadata": {
        "colab": {
          "base_uri": "https://localhost:8080/"
        },
        "id": "EtrsUcN-Znun",
        "outputId": "4102e15b-4b76-4ea3-cf2f-8236bb8ea6c8"
      },
      "execution_count": 164,
      "outputs": [
        {
          "output_type": "stream",
          "name": "stdout",
          "text": [
            "Accuracy:  0.95\n",
            "MSE: 0.05\n"
          ]
        }
      ]
    },
    {
      "cell_type": "markdown",
      "source": [
        "## 4.4. RandomForestClassifier"
      ],
      "metadata": {
        "id": "z-UxiNYngPWM"
      }
    },
    {
      "cell_type": "code",
      "source": [
        "randomforest = RandomForestClassifier()\n",
        "\n",
        "randomforest.fit(X_train, y_train)\n",
        "y_pred = randomforest.predict(X_test)\n",
        "\n",
        "accuracyrandom = round(accuracy_score(y_test, y_pred), 4)\n",
        "mserandom = round(mean_squared_error(y_test, y_pred),4)\n",
        "\n",
        "accuracy_list.append(accuracyrandom)\n",
        "mse_list.append(mserandom)\n",
        "\n",
        "print('Accuracy: ', accuracyrandom)\n",
        "print('MSE:', mserandom)"
      ],
      "metadata": {
        "colab": {
          "base_uri": "https://localhost:8080/"
        },
        "id": "3d9x7zbSZtEJ",
        "outputId": "8498eaa9-30c9-45c3-faf2-a60eb6c8295f"
      },
      "execution_count": 165,
      "outputs": [
        {
          "output_type": "stream",
          "name": "stdout",
          "text": [
            "Accuracy:  0.8833\n",
            "MSE: 0.1167\n"
          ]
        }
      ]
    },
    {
      "cell_type": "markdown",
      "source": [
        "## 4.5. AdaboostClassifier"
      ],
      "metadata": {
        "id": "etxS0cipfaWk"
      }
    },
    {
      "cell_type": "code",
      "source": [
        "ada = AdaBoostClassifier(n_estimators=100)\n",
        "\n",
        "ada.fit(X_train, y_train)\n",
        "\n",
        "y_pred = ada.predict(X_test)\n",
        "\n",
        "accuracyada = round(accuracy_score(y_test, y_pred), 4)\n",
        "mseada = round(mean_squared_error(y_test, y_pred),4)\n",
        "\n",
        "accuracy_list.append(accuracyada)\n",
        "mse_list.append(mseada)\n",
        "\n",
        "print('Accuracy: ', accuracyada)\n",
        "print('MSE:', mseada)"
      ],
      "metadata": {
        "colab": {
          "base_uri": "https://localhost:8080/"
        },
        "id": "BkmKuN2NZwzb",
        "outputId": "574be2ba-b3fc-48c8-e65f-91e401619827"
      },
      "execution_count": 166,
      "outputs": [
        {
          "output_type": "stream",
          "name": "stdout",
          "text": [
            "Accuracy:  0.4667\n",
            "MSE: 0.7333\n"
          ]
        }
      ]
    },
    {
      "cell_type": "markdown",
      "source": [
        "## 4.6. DecisionTreeClassfier"
      ],
      "metadata": {
        "id": "qmrT7Q0OffGt"
      }
    },
    {
      "cell_type": "code",
      "source": [
        "dectree = DecisionTreeClassifier()\n",
        "\n",
        "dectree.fit(X_train, y_train)\n",
        "\n",
        "y_pred = dectree.predict(X_test)\n",
        "\n",
        "accuracydectree = round(accuracy_score(y_test, y_pred), 4)\n",
        "msedectree = round(mean_squared_error(y_test, y_pred),4)\n",
        "\n",
        "accuracy_list.append(accuracydectree)\n",
        "mse_list.append(msedectree)\n",
        "\n",
        "print('Accuracy: ', accuracydectree)\n",
        "print('MSE:', msedectree)"
      ],
      "metadata": {
        "colab": {
          "base_uri": "https://localhost:8080/"
        },
        "id": "oMcm5A1AZ0JS",
        "outputId": "8f37a3c8-6ffe-4e31-d028-5467fadfc805"
      },
      "execution_count": 167,
      "outputs": [
        {
          "output_type": "stream",
          "name": "stdout",
          "text": [
            "Accuracy:  0.9\n",
            "MSE: 0.3\n"
          ]
        }
      ]
    },
    {
      "cell_type": "markdown",
      "source": [
        "## 4.7. SGDClassifier"
      ],
      "metadata": {
        "id": "hAVx9nwGfyN1"
      }
    },
    {
      "cell_type": "code",
      "source": [
        "sgdc = SGDClassifier()\n",
        "\n",
        "sgdc.fit(X_train, y_train)\n",
        "\n",
        "y_pred = sgdc.predict(X_test)\n",
        "\n",
        "accuracySGD = round(accuracy_score(y_test, y_pred), 4)\n",
        "mseSGD = round(mean_squared_error(y_test, y_pred),4)\n",
        "\n",
        "accuracy_list.append(accuracySGD)\n",
        "mse_list.append(mseSGD)\n",
        "\n",
        "print('Accuracy: ', accuracySGD)\n",
        "print('MSE:', mseSGD)"
      ],
      "metadata": {
        "colab": {
          "base_uri": "https://localhost:8080/"
        },
        "id": "EWN1KExAZ2Uo",
        "outputId": "97630b14-c2ac-4c8d-ba7d-ab15c0a80452"
      },
      "execution_count": 168,
      "outputs": [
        {
          "output_type": "stream",
          "name": "stdout",
          "text": [
            "Accuracy:  0.95\n",
            "MSE: 0.05\n"
          ]
        }
      ]
    },
    {
      "cell_type": "markdown",
      "source": [
        "## 4.8. GaussianNB"
      ],
      "metadata": {
        "id": "ClQnxmfxf5ON"
      }
    },
    {
      "cell_type": "code",
      "source": [
        "gaussian = GaussianNB()\n",
        "\n",
        "gaussian.fit(X_train, y_train)\n",
        "\n",
        "y_pred = gaussian.predict(X_test)\n",
        "\n",
        "accuracygaussian = round(accuracy_score(y_test, y_pred), 4)\n",
        "msegaussian = round(mean_squared_error(y_test, y_pred),4)\n",
        "\n",
        "accuracy_list.append(accuracygaussian)\n",
        "mse_list.append(msegaussian)\n",
        "\n",
        "print('Accuracy: ', accuracygaussian)\n",
        "print('MSE:', msegaussian)"
      ],
      "metadata": {
        "colab": {
          "base_uri": "https://localhost:8080/"
        },
        "id": "DaAOWMSiZ-U9",
        "outputId": "3377bd9f-446c-450c-cde8-e846873ab333"
      },
      "execution_count": 169,
      "outputs": [
        {
          "output_type": "stream",
          "name": "stdout",
          "text": [
            "Accuracy:  0.5167\n",
            "MSE: 1.8833\n"
          ]
        }
      ]
    },
    {
      "cell_type": "markdown",
      "source": [
        "# **5.6. Sumarização dos Resultados e Conclusão**\n",
        "Por fim, vamos analisar as acurácias e os Erros Quadráticos Médios através de um DataFrame."
      ],
      "metadata": {
        "id": "HyJI-sTJ3fEs"
      }
    },
    {
      "cell_type": "code",
      "source": [
        "classificadores = ['Logistic Regression', \n",
        "                   'XGBClassifier', \n",
        "                   'KNeighborsClassifier', \n",
        "                   'RandomForestClassifier', \n",
        "                   'AdaBoostClassifier',\n",
        "                   'DecisionTreeClassifier', \n",
        "                   'SGDClassifier', \n",
        "                   'GaussianNB']\n",
        "\n",
        "dic = {'Models': classificadores, 'Accuracy': accuracy_list, 'MSE': mse_list}\n",
        "sum = pd.DataFrame(dic)\n",
        "sum"
      ],
      "metadata": {
        "colab": {
          "base_uri": "https://localhost:8080/",
          "height": 300
        },
        "id": "b8VZSK0taG2y",
        "outputId": "3e4a0509-7466-4750-d835-cce0fded157d"
      },
      "execution_count": 185,
      "outputs": [
        {
          "output_type": "execute_result",
          "data": {
            "text/plain": [
              "                   Models  Accuracy     MSE\n",
              "0     Logistic Regression    0.9167  0.0833\n",
              "1           XGBClassifier    0.6500  0.5500\n",
              "2    KNeighborsClassifier    0.9500  0.0500\n",
              "3  RandomForestClassifier    0.8833  0.1167\n",
              "4      AdaBoostClassifier    0.4667  0.7333\n",
              "5  DecisionTreeClassifier    0.9000  0.3000\n",
              "6           SGDClassifier    0.9500  0.0500\n",
              "7              GaussianNB    0.5167  1.8833"
            ],
            "text/html": [
              "\n",
              "  <div id=\"df-899d6d5e-d4bf-4110-ad7e-80964129c3a5\">\n",
              "    <div class=\"colab-df-container\">\n",
              "      <div>\n",
              "<style scoped>\n",
              "    .dataframe tbody tr th:only-of-type {\n",
              "        vertical-align: middle;\n",
              "    }\n",
              "\n",
              "    .dataframe tbody tr th {\n",
              "        vertical-align: top;\n",
              "    }\n",
              "\n",
              "    .dataframe thead th {\n",
              "        text-align: right;\n",
              "    }\n",
              "</style>\n",
              "<table border=\"1\" class=\"dataframe\">\n",
              "  <thead>\n",
              "    <tr style=\"text-align: right;\">\n",
              "      <th></th>\n",
              "      <th>Models</th>\n",
              "      <th>Accuracy</th>\n",
              "      <th>MSE</th>\n",
              "    </tr>\n",
              "  </thead>\n",
              "  <tbody>\n",
              "    <tr>\n",
              "      <th>0</th>\n",
              "      <td>Logistic Regression</td>\n",
              "      <td>0.9167</td>\n",
              "      <td>0.0833</td>\n",
              "    </tr>\n",
              "    <tr>\n",
              "      <th>1</th>\n",
              "      <td>XGBClassifier</td>\n",
              "      <td>0.6500</td>\n",
              "      <td>0.5500</td>\n",
              "    </tr>\n",
              "    <tr>\n",
              "      <th>2</th>\n",
              "      <td>KNeighborsClassifier</td>\n",
              "      <td>0.9500</td>\n",
              "      <td>0.0500</td>\n",
              "    </tr>\n",
              "    <tr>\n",
              "      <th>3</th>\n",
              "      <td>RandomForestClassifier</td>\n",
              "      <td>0.8833</td>\n",
              "      <td>0.1167</td>\n",
              "    </tr>\n",
              "    <tr>\n",
              "      <th>4</th>\n",
              "      <td>AdaBoostClassifier</td>\n",
              "      <td>0.4667</td>\n",
              "      <td>0.7333</td>\n",
              "    </tr>\n",
              "    <tr>\n",
              "      <th>5</th>\n",
              "      <td>DecisionTreeClassifier</td>\n",
              "      <td>0.9000</td>\n",
              "      <td>0.3000</td>\n",
              "    </tr>\n",
              "    <tr>\n",
              "      <th>6</th>\n",
              "      <td>SGDClassifier</td>\n",
              "      <td>0.9500</td>\n",
              "      <td>0.0500</td>\n",
              "    </tr>\n",
              "    <tr>\n",
              "      <th>7</th>\n",
              "      <td>GaussianNB</td>\n",
              "      <td>0.5167</td>\n",
              "      <td>1.8833</td>\n",
              "    </tr>\n",
              "  </tbody>\n",
              "</table>\n",
              "</div>\n",
              "      <button class=\"colab-df-convert\" onclick=\"convertToInteractive('df-899d6d5e-d4bf-4110-ad7e-80964129c3a5')\"\n",
              "              title=\"Convert this dataframe to an interactive table.\"\n",
              "              style=\"display:none;\">\n",
              "        \n",
              "  <svg xmlns=\"http://www.w3.org/2000/svg\" height=\"24px\"viewBox=\"0 0 24 24\"\n",
              "       width=\"24px\">\n",
              "    <path d=\"M0 0h24v24H0V0z\" fill=\"none\"/>\n",
              "    <path d=\"M18.56 5.44l.94 2.06.94-2.06 2.06-.94-2.06-.94-.94-2.06-.94 2.06-2.06.94zm-11 1L8.5 8.5l.94-2.06 2.06-.94-2.06-.94L8.5 2.5l-.94 2.06-2.06.94zm10 10l.94 2.06.94-2.06 2.06-.94-2.06-.94-.94-2.06-.94 2.06-2.06.94z\"/><path d=\"M17.41 7.96l-1.37-1.37c-.4-.4-.92-.59-1.43-.59-.52 0-1.04.2-1.43.59L10.3 9.45l-7.72 7.72c-.78.78-.78 2.05 0 2.83L4 21.41c.39.39.9.59 1.41.59.51 0 1.02-.2 1.41-.59l7.78-7.78 2.81-2.81c.8-.78.8-2.07 0-2.86zM5.41 20L4 18.59l7.72-7.72 1.47 1.35L5.41 20z\"/>\n",
              "  </svg>\n",
              "      </button>\n",
              "      \n",
              "  <style>\n",
              "    .colab-df-container {\n",
              "      display:flex;\n",
              "      flex-wrap:wrap;\n",
              "      gap: 12px;\n",
              "    }\n",
              "\n",
              "    .colab-df-convert {\n",
              "      background-color: #E8F0FE;\n",
              "      border: none;\n",
              "      border-radius: 50%;\n",
              "      cursor: pointer;\n",
              "      display: none;\n",
              "      fill: #1967D2;\n",
              "      height: 32px;\n",
              "      padding: 0 0 0 0;\n",
              "      width: 32px;\n",
              "    }\n",
              "\n",
              "    .colab-df-convert:hover {\n",
              "      background-color: #E2EBFA;\n",
              "      box-shadow: 0px 1px 2px rgba(60, 64, 67, 0.3), 0px 1px 3px 1px rgba(60, 64, 67, 0.15);\n",
              "      fill: #174EA6;\n",
              "    }\n",
              "\n",
              "    [theme=dark] .colab-df-convert {\n",
              "      background-color: #3B4455;\n",
              "      fill: #D2E3FC;\n",
              "    }\n",
              "\n",
              "    [theme=dark] .colab-df-convert:hover {\n",
              "      background-color: #434B5C;\n",
              "      box-shadow: 0px 1px 3px 1px rgba(0, 0, 0, 0.15);\n",
              "      filter: drop-shadow(0px 1px 2px rgba(0, 0, 0, 0.3));\n",
              "      fill: #FFFFFF;\n",
              "    }\n",
              "  </style>\n",
              "\n",
              "      <script>\n",
              "        const buttonEl =\n",
              "          document.querySelector('#df-899d6d5e-d4bf-4110-ad7e-80964129c3a5 button.colab-df-convert');\n",
              "        buttonEl.style.display =\n",
              "          google.colab.kernel.accessAllowed ? 'block' : 'none';\n",
              "\n",
              "        async function convertToInteractive(key) {\n",
              "          const element = document.querySelector('#df-899d6d5e-d4bf-4110-ad7e-80964129c3a5');\n",
              "          const dataTable =\n",
              "            await google.colab.kernel.invokeFunction('convertToInteractive',\n",
              "                                                     [key], {});\n",
              "          if (!dataTable) return;\n",
              "\n",
              "          const docLinkHtml = 'Like what you see? Visit the ' +\n",
              "            '<a target=\"_blank\" href=https://colab.research.google.com/notebooks/data_table.ipynb>data table notebook</a>'\n",
              "            + ' to learn more about interactive tables.';\n",
              "          element.innerHTML = '';\n",
              "          dataTable['output_type'] = 'display_data';\n",
              "          await google.colab.output.renderOutput(dataTable, element);\n",
              "          const docLink = document.createElement('div');\n",
              "          docLink.innerHTML = docLinkHtml;\n",
              "          element.appendChild(docLink);\n",
              "        }\n",
              "      </script>\n",
              "    </div>\n",
              "  </div>\n",
              "  "
            ]
          },
          "metadata": {},
          "execution_count": 185
        }
      ]
    },
    {
      "cell_type": "markdown",
      "source": [
        "Vamos colocoar em ordem crescente com base na acurácia."
      ],
      "metadata": {
        "id": "13HK1TLO5zYc"
      }
    },
    {
      "cell_type": "code",
      "source": [
        "sum.sort_values(by = 'Accuracy', ascending = False)"
      ],
      "metadata": {
        "colab": {
          "base_uri": "https://localhost:8080/",
          "height": 300
        },
        "id": "dJPWLtmk4UmO",
        "outputId": "37a1380a-eb0e-42e1-e630-d777a8174035"
      },
      "execution_count": 173,
      "outputs": [
        {
          "output_type": "execute_result",
          "data": {
            "text/plain": [
              "                   Models  Accuracy     MSE\n",
              "2    KNeighborsClassifier    0.9500  0.0500\n",
              "6           SGDClassifier    0.9500  0.0500\n",
              "0     Logistic Regression    0.9167  0.0833\n",
              "5  DecisionTreeClassifier    0.9000  0.3000\n",
              "3  RandomForestClassifier    0.8833  0.1167\n",
              "1           XGBClassifier    0.6500  0.5500\n",
              "7              GaussianNB    0.5167  1.8833\n",
              "4      AdaBoostClassifier    0.4667  0.7333"
            ],
            "text/html": [
              "\n",
              "  <div id=\"df-98fad5f1-3688-4810-a04e-90960b35e20b\">\n",
              "    <div class=\"colab-df-container\">\n",
              "      <div>\n",
              "<style scoped>\n",
              "    .dataframe tbody tr th:only-of-type {\n",
              "        vertical-align: middle;\n",
              "    }\n",
              "\n",
              "    .dataframe tbody tr th {\n",
              "        vertical-align: top;\n",
              "    }\n",
              "\n",
              "    .dataframe thead th {\n",
              "        text-align: right;\n",
              "    }\n",
              "</style>\n",
              "<table border=\"1\" class=\"dataframe\">\n",
              "  <thead>\n",
              "    <tr style=\"text-align: right;\">\n",
              "      <th></th>\n",
              "      <th>Models</th>\n",
              "      <th>Accuracy</th>\n",
              "      <th>MSE</th>\n",
              "    </tr>\n",
              "  </thead>\n",
              "  <tbody>\n",
              "    <tr>\n",
              "      <th>2</th>\n",
              "      <td>KNeighborsClassifier</td>\n",
              "      <td>0.9500</td>\n",
              "      <td>0.0500</td>\n",
              "    </tr>\n",
              "    <tr>\n",
              "      <th>6</th>\n",
              "      <td>SGDClassifier</td>\n",
              "      <td>0.9500</td>\n",
              "      <td>0.0500</td>\n",
              "    </tr>\n",
              "    <tr>\n",
              "      <th>0</th>\n",
              "      <td>Logistic Regression</td>\n",
              "      <td>0.9167</td>\n",
              "      <td>0.0833</td>\n",
              "    </tr>\n",
              "    <tr>\n",
              "      <th>5</th>\n",
              "      <td>DecisionTreeClassifier</td>\n",
              "      <td>0.9000</td>\n",
              "      <td>0.3000</td>\n",
              "    </tr>\n",
              "    <tr>\n",
              "      <th>3</th>\n",
              "      <td>RandomForestClassifier</td>\n",
              "      <td>0.8833</td>\n",
              "      <td>0.1167</td>\n",
              "    </tr>\n",
              "    <tr>\n",
              "      <th>1</th>\n",
              "      <td>XGBClassifier</td>\n",
              "      <td>0.6500</td>\n",
              "      <td>0.5500</td>\n",
              "    </tr>\n",
              "    <tr>\n",
              "      <th>7</th>\n",
              "      <td>GaussianNB</td>\n",
              "      <td>0.5167</td>\n",
              "      <td>1.8833</td>\n",
              "    </tr>\n",
              "    <tr>\n",
              "      <th>4</th>\n",
              "      <td>AdaBoostClassifier</td>\n",
              "      <td>0.4667</td>\n",
              "      <td>0.7333</td>\n",
              "    </tr>\n",
              "  </tbody>\n",
              "</table>\n",
              "</div>\n",
              "      <button class=\"colab-df-convert\" onclick=\"convertToInteractive('df-98fad5f1-3688-4810-a04e-90960b35e20b')\"\n",
              "              title=\"Convert this dataframe to an interactive table.\"\n",
              "              style=\"display:none;\">\n",
              "        \n",
              "  <svg xmlns=\"http://www.w3.org/2000/svg\" height=\"24px\"viewBox=\"0 0 24 24\"\n",
              "       width=\"24px\">\n",
              "    <path d=\"M0 0h24v24H0V0z\" fill=\"none\"/>\n",
              "    <path d=\"M18.56 5.44l.94 2.06.94-2.06 2.06-.94-2.06-.94-.94-2.06-.94 2.06-2.06.94zm-11 1L8.5 8.5l.94-2.06 2.06-.94-2.06-.94L8.5 2.5l-.94 2.06-2.06.94zm10 10l.94 2.06.94-2.06 2.06-.94-2.06-.94-.94-2.06-.94 2.06-2.06.94z\"/><path d=\"M17.41 7.96l-1.37-1.37c-.4-.4-.92-.59-1.43-.59-.52 0-1.04.2-1.43.59L10.3 9.45l-7.72 7.72c-.78.78-.78 2.05 0 2.83L4 21.41c.39.39.9.59 1.41.59.51 0 1.02-.2 1.41-.59l7.78-7.78 2.81-2.81c.8-.78.8-2.07 0-2.86zM5.41 20L4 18.59l7.72-7.72 1.47 1.35L5.41 20z\"/>\n",
              "  </svg>\n",
              "      </button>\n",
              "      \n",
              "  <style>\n",
              "    .colab-df-container {\n",
              "      display:flex;\n",
              "      flex-wrap:wrap;\n",
              "      gap: 12px;\n",
              "    }\n",
              "\n",
              "    .colab-df-convert {\n",
              "      background-color: #E8F0FE;\n",
              "      border: none;\n",
              "      border-radius: 50%;\n",
              "      cursor: pointer;\n",
              "      display: none;\n",
              "      fill: #1967D2;\n",
              "      height: 32px;\n",
              "      padding: 0 0 0 0;\n",
              "      width: 32px;\n",
              "    }\n",
              "\n",
              "    .colab-df-convert:hover {\n",
              "      background-color: #E2EBFA;\n",
              "      box-shadow: 0px 1px 2px rgba(60, 64, 67, 0.3), 0px 1px 3px 1px rgba(60, 64, 67, 0.15);\n",
              "      fill: #174EA6;\n",
              "    }\n",
              "\n",
              "    [theme=dark] .colab-df-convert {\n",
              "      background-color: #3B4455;\n",
              "      fill: #D2E3FC;\n",
              "    }\n",
              "\n",
              "    [theme=dark] .colab-df-convert:hover {\n",
              "      background-color: #434B5C;\n",
              "      box-shadow: 0px 1px 3px 1px rgba(0, 0, 0, 0.15);\n",
              "      filter: drop-shadow(0px 1px 2px rgba(0, 0, 0, 0.3));\n",
              "      fill: #FFFFFF;\n",
              "    }\n",
              "  </style>\n",
              "\n",
              "      <script>\n",
              "        const buttonEl =\n",
              "          document.querySelector('#df-98fad5f1-3688-4810-a04e-90960b35e20b button.colab-df-convert');\n",
              "        buttonEl.style.display =\n",
              "          google.colab.kernel.accessAllowed ? 'block' : 'none';\n",
              "\n",
              "        async function convertToInteractive(key) {\n",
              "          const element = document.querySelector('#df-98fad5f1-3688-4810-a04e-90960b35e20b');\n",
              "          const dataTable =\n",
              "            await google.colab.kernel.invokeFunction('convertToInteractive',\n",
              "                                                     [key], {});\n",
              "          if (!dataTable) return;\n",
              "\n",
              "          const docLinkHtml = 'Like what you see? Visit the ' +\n",
              "            '<a target=\"_blank\" href=https://colab.research.google.com/notebooks/data_table.ipynb>data table notebook</a>'\n",
              "            + ' to learn more about interactive tables.';\n",
              "          element.innerHTML = '';\n",
              "          dataTable['output_type'] = 'display_data';\n",
              "          await google.colab.output.renderOutput(dataTable, element);\n",
              "          const docLink = document.createElement('div');\n",
              "          docLink.innerHTML = docLinkHtml;\n",
              "          element.appendChild(docLink);\n",
              "        }\n",
              "      </script>\n",
              "    </div>\n",
              "  </div>\n",
              "  "
            ]
          },
          "metadata": {},
          "execution_count": 173
        }
      ]
    },
    {
      "cell_type": "code",
      "source": [
        "plt.title('Gráfico de Dispersão: Accuracy x MSE')\n",
        "sns.scatterplot(data = sum, x = 'Accuracy', y = 'MSE')\n",
        "plt.show()"
      ],
      "metadata": {
        "colab": {
          "base_uri": "https://localhost:8080/",
          "height": 295
        },
        "id": "cHHN7gj-AJ9N",
        "outputId": "423d1c25-24fd-470b-e7be-70b850ecec0c"
      },
      "execution_count": 184,
      "outputs": [
        {
          "output_type": "display_data",
          "data": {
            "text/plain": [
              "<Figure size 432x288 with 1 Axes>"
            ],
            "image/png": "[encoded data removed]"
          },
          "metadata": {
            "needs_background": "light"
          }
        }
      ]
    },
    {
      "cell_type": "markdown",
      "source": [
        "#### **Conclusão**\n",
        "Conseguimos alcançar 95% de acurácia com o modelo KNeighborsClassifier e com o SGDClassifier para o conjunto de dados de estrelas e seus tipos. Dentre os testados, foram os que melhores predizeram.\n",
        "\n",
        "Perceba que os piores modelos foram aqueles que tem como base a combinação de árvores de decisão. Isso nos mostra que a complexidade e a robustez de um modelo não necessariamente implica que ele atuará muito bem em todos os conjuntos de dados.\n",
        "\n",
        "Concluímos então, que o melhores modelos para a predição dos tipos de estrelas são: (1) KNeighborsClassifier; (2) SGDClassifier; e (2) Logistic Regression. Isso pode nos indicar que o diagrama de Hertzsprung-Russell possui também uma alta precisão de classificação, afinal, os melhores modelos atuam de maneira similar à teoria de Russel.  "
      ],
      "metadata": {
        "id": "p7JAxjJd6B29"
      }
    }
  ]
}